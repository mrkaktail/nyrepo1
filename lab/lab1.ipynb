{
 "cells": [
  {
   "cell_type": "code",
   "execution_count": null,
   "id": "4268416f",
   "metadata": {},
   "outputs": [
    {
     "name": "stdout",
     "output_type": "stream",
     "text": [
      "[{'A': 17, 'T': 7, 'C': 8, 'G': 2}, {'A': 3, 'T': 7, 'C': 4, 'G': 10}, {'A': 18, 'T': 10, 'C': 16, 'G': 16}, {'A': 13, 'T': 10, 'C': 11, 'G': 18}]\n"
     ]
    }
   ],
   "source": [
    "import re\n",
    "\n",
    "#accessing the file in read mode and setting all content to lowercase\n",
    "with open(\"dna_raw.txt\", \"r\") as file:\n",
    "    contents = file.read()\n",
    "    contents = contents.lower()\n",
    "\n",
    "#splitting all lines of the textfile into a list of lines as items\n",
    "contents = contents.splitlines()\n",
    "\n",
    "#stripping file content of \">seq.\" lines and making them into a list. aka removing those lines/items in our new list.\n",
    "cleaneddna = []\n",
    "for line in contents:\n",
    "    if not re.match(\">seq.\", line):\n",
    "        cleaneddna.append(line)\n",
    "\n",
    "#making a function that takes a list(listo) and counts the characters/letters in each item of given list(listo)\n",
    "def letterdictionary2(listo):\n",
    "    finaldnalist = []\n",
    "    for item in listo:\n",
    "        A = item.count('a')\n",
    "        T = item.count('t')\n",
    "        C = item.count('c')\n",
    "        G = item.count('g')\n",
    "        seqdict = {\"A\": A, \"T\": T, \"C\": C, \"G\": G}\n",
    "        finaldnalist.append(seqdict)\n",
    "    return finaldnalist\n",
    "\n",
    "dnadict = letterdictionary2(cleaneddna)\n",
    "print(dnadict)\n",
    "\n",
    "\n",
    "\n"
   ]
  }
 ],
 "metadata": {
  "kernelspec": {
   "display_name": "nyrepo1",
   "language": "python",
   "name": "python3"
  },
  "language_info": {
   "codemirror_mode": {
    "name": "ipython",
    "version": 3
   },
   "file_extension": ".py",
   "mimetype": "text/x-python",
   "name": "python",
   "nbconvert_exporter": "python",
   "pygments_lexer": "ipython3",
   "version": "3.12.10"
  }
 },
 "nbformat": 4,
 "nbformat_minor": 5
}
