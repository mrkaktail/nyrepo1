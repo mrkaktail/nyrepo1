{
 "cells": [
  {
   "cell_type": "code",
   "execution_count": null,
   "id": "4268416f",
   "metadata": {},
   "outputs": [
    {
     "name": "stdout",
     "output_type": "stream",
     "text": [
      "[{'A': 17, 'T': 7, 'C': 8, 'G': 2}, {'A': 3, 'T': 7, 'C': 4, 'G': 10}, {'A': 36, 'T': 19, 'C': 34, 'G': 21}, {'A': 17, 'T': 12, 'C': 15, 'G': 20}]\n"
     ]
    }
   ],
   "source": [
    "import re\n",
    "\n",
    "#accessing the file in read mode and setting all content to lowercase\n",
    "with open(\"dna_raw_complicated.txt\", \"r\") as file:\n",
    "    contents = file.read()\n",
    "    contents = contents.lower()\n",
    "\n",
    "#splitting all lines of the textfile into a list of lines as items\n",
    "contents = contents.splitlines()\n",
    "#print(contents)\n",
    "\n",
    "#Task 2: this block is meant to make the dna \"letters' all one line netween sequences. To make the complicated file the same format as the first one.\n",
    "#so that the rest of the code can work with the comlicated dna in teh same way\n",
    "contents2 = []\n",
    "stringtobeitem = \"\"                             #this empty string will concatenate all the lines between sequences to a long one line string, until next >seq. line is reached.\n",
    "for i in contents:\n",
    "    if re.match(\">seq.\", i):                    #1. every time a >seq. line is reached in the for loop, this triggers\n",
    "        if stringtobeitem != \"\":                #2. if the temporary string that makes all multilines to one single line is not empty\n",
    "            contents2.append(stringtobeitem)    #3. then the temporary/built up string will be stored in the \"updated dna content\" list\n",
    "            stringtobeitem = \"\"                 #4. and the temporary string will be reset to \"empty\" again.\n",
    "        \n",
    "        contents2.append(i)                     #as we are in a >seq. line, the >seq. line gets added to the \"updated dna content\" list\n",
    "    else:                                       #1. if we are not on a >seq. line\n",
    "        stringtobeitem = stringtobeitem + i     #2. then that means we are on an actual \"dna letters\" line, and the line just gets concatenated to the temporary string.\n",
    "if stringtobeitem != \"\":                        #1. if at the end the temporary string is not empty\n",
    "    contents2.append(stringtobeitem)            #2. then it gets added to the \"updated dna content\" list\n",
    "    stringtobeitem = \"\"\n",
    "\n",
    "#print(contents2)\n",
    "\n",
    "\n",
    "#stripping file content of \">seq.\" lines and making them into a list. aka removing those lines/items in our new list.\n",
    "cleaneddna = []\n",
    "for line in contents2:\n",
    "    if not re.match(\">seq.\", line):\n",
    "        cleaneddna.append(line)\n",
    "\n",
    "#making a function that takes a list(listo) and counts the characters/letters in each item of given list(listo)\n",
    "def letterdictionary2(listo):\n",
    "    finaldnalist = []\n",
    "    for item in listo:\n",
    "        A = item.count('a')\n",
    "        T = item.count('t')\n",
    "        C = item.count('c')\n",
    "        G = item.count('g')\n",
    "        seqdict = {\"A\": A, \"T\": T, \"C\": C, \"G\": G}\n",
    "        finaldnalist.append(seqdict)\n",
    "    return finaldnalist\n",
    "\n",
    "dnadict = letterdictionary2(cleaneddna)\n",
    "print(dnadict) \n",
    "\n",
    "\n",
    "\n"
   ]
  }
 ],
 "metadata": {
  "kernelspec": {
   "display_name": "nyrepo1",
   "language": "python",
   "name": "python3"
  },
  "language_info": {
   "codemirror_mode": {
    "name": "ipython",
    "version": 3
   },
   "file_extension": ".py",
   "mimetype": "text/x-python",
   "name": "python",
   "nbconvert_exporter": "python",
   "pygments_lexer": "ipython3",
   "version": "3.12.10"
  }
 },
 "nbformat": 4,
 "nbformat_minor": 5
}
