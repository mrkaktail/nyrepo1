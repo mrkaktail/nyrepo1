{
 "cells": [
  {
   "cell_type": "code",
   "execution_count": null,
   "id": "4268416f",
   "metadata": {},
   "outputs": [
    {
     "name": "stdout",
     "output_type": "stream",
     "text": [
      "['>seq1\\ncgtaaccaataaaaaaacaagcttaacctaattc\\n>seq2\\nagcttagtttggatctggccgggg\\n>seq3\\ngcggatttactccccccaaaaannaggggagagcccagataaatggagtctgtgcgtccaca\\n>seq4\\ngcggatttactcaggggagagcccagggataaatggagtctgtgcgtccaca']\n"
     ]
    }
   ],
   "source": [
    "with open(\"C:/Users/shenz/Downloads/dna_raw.txt\", \"r\") as file:\n",
    "    contents = file.read()\n",
    "#print(contents)\n",
    "dnalist = [contents.lower()]\n",
    "#print(dnalist)\n",
    "dnalist."
   ]
  }
 ],
 "metadata": {
  "kernelspec": {
   "display_name": "Python 3",
   "language": "python",
   "name": "python3"
  },
  "language_info": {
   "codemirror_mode": {
    "name": "ipython",
    "version": 3
   },
   "file_extension": ".py",
   "mimetype": "text/x-python",
   "name": "python",
   "nbconvert_exporter": "python",
   "pygments_lexer": "ipython3",
   "version": "3.12.10"
  }
 },
 "nbformat": 4,
 "nbformat_minor": 5
}
