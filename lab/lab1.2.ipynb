{
 "cells": [
  {
   "cell_type": "code",
   "execution_count": null,
   "id": "9600bb65",
   "metadata": {},
   "outputs": [
    {
     "name": "stdout",
     "output_type": "stream",
     "text": [
      "[{'A': 17, 'T': 7, 'C': 8, 'G': 2}, {'A': 3, 'T': 7, 'C': 4, 'G': 10}, {'A': 36, 'T': 19, 'C': 34, 'G': 21}, {'A': 17, 'T': 12, 'C': 15, 'G': 20}]\n"
     ]
    }
   ],
   "source": [
    "import re\n",
    "\n",
    "#This function processes any given dna sequence text file with one or more lines per >seq. header\n",
    "#It returns a list of dictionaries with ATCG as keys, and the amount of each letter as values\n",
    "def DNAfunction(nameoffile):\n",
    "    \n",
    "    #Opening the file and making it into an all lowercase list of lines as items\n",
    "    with open(nameoffile, \"r\") as file: \n",
    "        List1 = file.read().lower().splitlines()\n",
    "    \n",
    "    #In a case where the given file is of a \"complicated\" type and the iteration comes upon multiple lines of ATCG\n",
    "    #This block then makes all of them into a one single long line and adds the one line to an updated list \"contents2\"\n",
    "    #Essentially the block of code collects ATCG lines and checks what it has collected when stumbling upon the next >seq. header line\n",
    "    List2 = []\n",
    "    stringtobeitem = \"\"                             \n",
    "    for i in List1:\n",
    "        if re.match(\">seq.\", i):                    \n",
    "            if stringtobeitem != \"\":                \n",
    "                List2.append(stringtobeitem)    \n",
    "                stringtobeitem = \"\"                 \n",
    "            \n",
    "            List2.append(i) #for the sake of first ever >seq. line         \n",
    "        else:                                       \n",
    "            stringtobeitem = stringtobeitem + i     \n",
    "    #For the sake of last ever ATCG line\n",
    "    if stringtobeitem != \"\":          \n",
    "        List2.append(stringtobeitem)            \n",
    "        stringtobeitem = \"\"\n",
    "\n",
    "    #This block of code creates a further updated list without any >seq. headers\n",
    "    #Appending only ACTG lines to the new list and skipping seq lines\n",
    "    List3 = []\n",
    "    for line in List2:\n",
    "        if not re.match(\">seq.\", line):\n",
    "            List3.append(line)\n",
    "    \n",
    "    #This block creates the final version of updated list\n",
    "    #Counting all letters in each item of the previous list and setting them as values of each key A,T,C,G\n",
    "    List4 = []\n",
    "    for item in List3:\n",
    "        A = item.count('a')\n",
    "        T = item.count('t')\n",
    "        C = item.count('c')\n",
    "        G = item.count('g')\n",
    "        seqdict = {\"A\": A, \"T\": T, \"C\": C, \"G\": G}\n",
    "        List4.append(seqdict)\n",
    "    return List4\n",
    "\n",
    "dnadict = DNAfunction(\"dna_raw_complicated.txt\")\n",
    "print(dnadict)\n",
    "\n",
    "\n",
    "\n"
   ]
  }
 ],
 "metadata": {
  "kernelspec": {
   "display_name": "nyrepo1",
   "language": "python",
   "name": "python3"
  },
  "language_info": {
   "codemirror_mode": {
    "name": "ipython",
    "version": 3
   },
   "file_extension": ".py",
   "mimetype": "text/x-python",
   "name": "python",
   "nbconvert_exporter": "python",
   "pygments_lexer": "ipython3",
   "version": "3.12.10"
  }
 },
 "nbformat": 4,
 "nbformat_minor": 5
}
