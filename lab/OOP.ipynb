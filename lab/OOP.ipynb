{
 "cells": [
  {
   "cell_type": "markdown",
   "id": "7117fb2a",
   "metadata": {},
   "source": [
    "What is the point of functions?\n",
    "\n",
    "> Mini program do specific task\n",
    "> Shorten code \n",
    "> reusable code\n",
    "> DRY (Dont Repeat Yourself)\n",
    "\n",
    "#reason we do classes is not to have to rewrite these things, keep things that are similar into the same class\n",
    "\n",
    "Class Animal > Attributes(\"variables\") - egenskaper\n",
    "                - # ears\n",
    "                - color\n",
    "                - #legs\n",
    "                \n",
    "            > Methods(\"functions\") - behavior\n",
    "                -talk() #basically its a function that is bound to its class\n",
    "                -\n",
    "#so from this animal class we can instantiate different types of animals, so we can create like animal 1, we can create animal 2, and we can create several more animals. This means thata we are (instantiating). And each of these animals could have diffrent values in attributes in different states. \n",
    "In animal 1 we could have ears = 2, color = brown, legs = 4\n",
    "In animal 2 we could have ears = 2, color = green, legs = 2\n",
    "\n",
    "So these are instances of the animal class\n",
    "when they say talk() #both have the talk method that we can implement\n",
    "\n",
    "So 2 animals in the same class and when we instantiate animals, we can put different attributes to them.\n",
    "\n",
    "The idea is tp group similar things together\n",
    "it could be for car, plotting, anything.\n",
    "\n",
    "If we take: \n",
    "        class student \n",
    "                    Attributes: -type of studies \n",
    "                                -name \n",
    "                                -pass/fail\n",
    "                                -school\n",
    "                                -age\n",
    "                    \n",
    "                   \n",
    "                   \n",
    "                   We have instantiated student s1:  - s1 = student(name = \"anna\", type_of_study = \"data engineering\", pass = True, school = \"STI\", age = 23)\n",
    "\n",
    "                   we could instantiate another one: \n",
    "\n",
    "                   s2 = student(name = \"Beda\", type_of_study = \"UX\", pass = True, school = \"STI\", age = 33)\n",
    "\n",
    "                   theres no methods to these though\n",
    "\n",
    "                   if we want to get an attribute: s1.school will give us STI, s2.name = beda, s1.name = anna\n",
    "\n"
   ]
  },
  {
   "cell_type": "markdown",
   "id": "2e2ab5cb",
   "metadata": {},
   "source": [
    "OOP FUNDAMENTALS "
   ]
  },
  {
   "cell_type": "code",
   "execution_count": 6,
   "id": "e4db1776",
   "metadata": {},
   "outputs": [
    {
     "name": "stdout",
     "output_type": "stream",
     "text": [
      "dunder init running\n"
     ]
    },
    {
     "data": {
      "text/plain": [
       "'STI'"
      ]
     },
     "execution_count": 6,
     "metadata": {},
     "output_type": "execute_result"
    }
   ],
   "source": [
    "class Admission:\n",
    "    # 'dunder init' - initializer - note 2 underscores before and after init\n",
    "    #this method will be ran when you instantiate an instance from this class\n",
    "    def __init__(self, school, name, program = \"Cool program\"):  #the program here is of a \"default value\"\n",
    "        print('dunder init running') #teacher showed that its running correctly\n",
    "        \n",
    "        #set the attributes to the values from the arguments\n",
    "        self.school = school\n",
    "        self.name = name\n",
    "        self.program = program\n",
    "\n",
    "#instantiate the instance person1 that is of type Admission\n",
    "person1 = Admission(\"STI\", \"Ceda\")\n",
    "\n",
    "person1.school "
   ]
  },
  {
   "cell_type": "code",
   "execution_count": 7,
   "id": "93d6521f",
   "metadata": {},
   "outputs": [
    {
     "data": {
      "text/plain": [
       "'Cool program'"
      ]
     },
     "execution_count": 7,
     "metadata": {},
     "output_type": "execute_result"
    }
   ],
   "source": [
    "person1.program"
   ]
  },
  {
   "cell_type": "code",
   "execution_count": null,
   "id": "3fb37ae8",
   "metadata": {},
   "outputs": [
    {
     "name": "stdout",
     "output_type": "stream",
     "text": [
      "dunder init running\n"
     ]
    },
    {
     "data": {
      "text/plain": [
       "'java'"
      ]
     },
     "execution_count": 8,
     "metadata": {},
     "output_type": "execute_result"
    }
   ],
   "source": [
    "person2 = Admission(name = \"johnny\", school = \"cool school\", program = \"java\")\n",
    "person2.program"
   ]
  },
  {
   "cell_type": "markdown",
   "id": "29298789",
   "metadata": {},
   "source": [
    "#note on memory\n",
    "by default, the __repr__ of an instance is shpwing the memory adress of where the instance live\n",
    "- each instance of the class lives in different memory adresses\n",
    "    -they are different objects"
   ]
  },
  {
   "cell_type": "code",
   "execution_count": 10,
   "id": "266767a2",
   "metadata": {},
   "outputs": [
    {
     "data": {
      "text/plain": [
       "(<__main__.Admission at 0x144d0999190>, <__main__.Admission at 0x144d09773b0>)"
      ]
     },
     "execution_count": 10,
     "metadata": {},
     "output_type": "execute_result"
    }
   ],
   "source": [
    "person1, person2"
   ]
  },
  {
   "cell_type": "code",
   "execution_count": 11,
   "id": "54004c6c",
   "metadata": {},
   "outputs": [
    {
     "name": "stdout",
     "output_type": "stream",
     "text": [
      "dunder init running\n"
     ]
    },
    {
     "data": {
      "text/plain": [
       "<__main__.Admission at 0x144d09a8ec0>"
      ]
     },
     "execution_count": 11,
     "metadata": {},
     "output_type": "execute_result"
    }
   ],
   "source": [
    "person3 = Admission(name = \"johnny\", school = \"cool school\", program = \"java\")\n",
    "person3"
   ]
  },
  {
   "cell_type": "markdown",
   "id": "7ba1b5cf",
   "metadata": {},
   "source": [
    "implement class student"
   ]
  },
  {
   "cell_type": "code",
   "execution_count": 28,
   "id": "31649ac3",
   "metadata": {},
   "outputs": [],
   "source": [
    "class student: \n",
    "    def __init__(student, name, type_of_study, Pass, school, age):\n",
    "        student.name = name\n",
    "        student.typeofstudy = type_of_study\n",
    "        student.Pass = Pass\n",
    "        student.school = school\n",
    "        student.school = age\n",
    "\n",
    "student1 = student(\"Robert\", \"data engineering\", True, \"STI\", 22)\n",
    "student2 = student(\"mr bad student\", \"dataengineering\", False, \"STI\", 23)\n",
    "\n",
    "\n",
    "def goodbadstudent(student):\n",
    "    if student.Pass == True: \n",
    "        print(f\"{student.name} is good student\")\n",
    "    elif student.Pass == False:\n",
    "        print(f\"{student.name}need to study more\")\n"
   ]
  },
  {
   "cell_type": "code",
   "execution_count": 29,
   "id": "cb5f58aa",
   "metadata": {},
   "outputs": [
    {
     "name": "stdout",
     "output_type": "stream",
     "text": [
      "Robert is good student\n",
      "mr bad studentneed to study more\n"
     ]
    }
   ],
   "source": [
    "student1.school\n",
    "student1.Pass\n",
    "\n",
    "goodbadstudent(student1)\n",
    "goodbadstudent(student2)"
   ]
  },
  {
   "cell_type": "markdown",
   "id": "fd7b07de",
   "metadata": {},
   "source": [
    "Implement class student"
   ]
  },
  {
   "cell_type": "code",
   "execution_count": 30,
   "id": "c723fc49",
   "metadata": {},
   "outputs": [
    {
     "data": {
      "text/plain": [
       "('Dadda', False)"
      ]
     },
     "execution_count": 30,
     "metadata": {},
     "output_type": "execute_result"
    }
   ],
   "source": [
    "class Student:\n",
    "    def __init__ (self, name, type_of_studies, school, age, passed):\n",
    "        self.name = name\n",
    "        self.type_of_studies = type_of_studies\n",
    "        self.school = school\n",
    "        self.age = age\n",
    "        self.passed = passed\n",
    "\n",
    "\n",
    "student1 = Student(\n",
    "        name = \"Dadda\",\n",
    "        age = 31,\n",
    "        school = \"Cool school\",\n",
    "        passed = False,\n",
    "        type_of_studies = \"economics\"\n",
    "        \n",
    ")\n",
    "\n",
    "student1.name, student1.passed"
   ]
  }
 ],
 "metadata": {
  "kernelspec": {
   "display_name": "nyrepo1",
   "language": "python",
   "name": "python3"
  },
  "language_info": {
   "codemirror_mode": {
    "name": "ipython",
    "version": 3
   },
   "file_extension": ".py",
   "mimetype": "text/x-python",
   "name": "python",
   "nbconvert_exporter": "python",
   "pygments_lexer": "ipython3",
   "version": "3.12.10"
  }
 },
 "nbformat": 4,
 "nbformat_minor": 5
}
