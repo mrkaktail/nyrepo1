{
 "cells": [
  {
   "cell_type": "markdown",
   "id": "0de38e21",
   "metadata": {},
   "source": [
    "Sets\n",
    "-onjects for those wrking with mathematical sets \n",
    "-no dublicate items in sets/ all unique items \n"
   ]
  },
  {
   "cell_type": "code",
   "execution_count": null,
   "id": "1536d335",
   "metadata": {},
   "outputs": [
    {
     "data": {
      "text/plain": [
       "['anna@example.com',\n",
       " 'bubu@example.com',\n",
       " 'bubu@example.com',\n",
       " 'carla@example.com']"
      ]
     },
     "execution_count": 1,
     "metadata": {},
     "output_type": "execute_result"
    }
   ],
   "source": [
    "#create a list of emails with dublicates\n",
    "emails = [\"anna@example.com\",\"bubu@example.com\", \"bubu@example.com\", \"carla@example.com\"] #so list keeps everything which is why its kind of a heavy datatype in python\n",
    "emails"
   ]
  },
  {
   "cell_type": "code",
   "execution_count": 2,
   "id": "4dc34a66",
   "metadata": {},
   "outputs": [
    {
     "data": {
      "text/plain": [
       "{'anna@example.com', 'bubu@example.com', 'carla@example.com'}"
      ]
     },
     "execution_count": 2,
     "metadata": {},
     "output_type": "execute_result"
    }
   ],
   "source": [
    "#use the items in list to create a set\n",
    "#a set will keep only unique items \n",
    "emails_set = set(emails)\n",
    "emails_set\n"
   ]
  },
  {
   "cell_type": "code",
   "execution_count": 4,
   "id": "fe71155b",
   "metadata": {},
   "outputs": [],
   "source": [
    "#create 2 sets \n",
    "first_month_customer = {\"alice\", \"bob\", \"tanja\"}\n",
    "second_month_customer = {\"daniel\", \"alice\", \"elena\"}"
   ]
  },
  {
   "cell_type": "code",
   "execution_count": 6,
   "id": "1308ca05",
   "metadata": {},
   "outputs": [
    {
     "data": {
      "text/plain": [
       "{'alice'}"
      ]
     },
     "execution_count": 6,
     "metadata": {},
     "output_type": "execute_result"
    }
   ],
   "source": [
    "reuccurring_customers = first_month_customer.intersection(second_month_customer)\n",
    "reuccurring_customers"
   ]
  },
  {
   "cell_type": "markdown",
   "id": "6c5e8eab",
   "metadata": {},
   "source": [
    "#union of two sets "
   ]
  },
  {
   "cell_type": "code",
   "execution_count": 7,
   "id": "fb2305a5",
   "metadata": {},
   "outputs": [
    {
     "data": {
      "text/plain": [
       "{'alice', 'bob', 'daniel', 'elena', 'tanja'}"
      ]
     },
     "execution_count": 7,
     "metadata": {},
     "output_type": "execute_result"
    }
   ],
   "source": [
    "all_customers = first_month_customer.union(second_month_customer)\n",
    "all_customers"
   ]
  },
  {
   "cell_type": "markdown",
   "id": "cfc4baea",
   "metadata": {},
   "source": [
    "Except"
   ]
  },
  {
   "cell_type": "code",
   "execution_count": null,
   "id": "5695ec8e",
   "metadata": {},
   "outputs": [
    {
     "data": {
      "text/plain": [
       "{'bob', 'daniel', 'elena', 'tanja'}"
      ]
     },
     "execution_count": 8,
     "metadata": {},
     "output_type": "execute_result"
    }
   ],
   "source": [
    "one_time_customer = all_customers - reuccurring_customers #customers didnt appear the first time but only seond time\n",
    "one_time_customer"
   ]
  }
 ],
 "metadata": {
  "kernelspec": {
   "display_name": "Python 3",
   "language": "python",
   "name": "python3"
  },
  "language_info": {
   "codemirror_mode": {
    "name": "ipython",
    "version": 3
   },
   "file_extension": ".py",
   "mimetype": "text/x-python",
   "name": "python",
   "nbconvert_exporter": "python",
   "pygments_lexer": "ipython3",
   "version": "3.12.10"
  }
 },
 "nbformat": 4,
 "nbformat_minor": 5
}
