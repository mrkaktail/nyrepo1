{
 "cells": [
  {
   "cell_type": "markdown",
   "id": "b159c911",
   "metadata": {},
   "source": [
    "open file \"with\" statement"
   ]
  },
  {
   "cell_type": "code",
   "execution_count": null,
   "id": "ea7e7e52",
   "metadata": {},
   "outputs": [
    {
     "name": "stdout",
     "output_type": "stream",
     "text": [
      "bbsfbdjfbjbds\n",
      "dsdsfdfdfdfd\n",
      "dsf\n",
      "df\n",
      "f\n",
      "f\n"
     ]
    }
   ],
   "source": [
    "with open(\"C:/Users/shenz/Desktop/test123.txt\", \"r\") as f:\n",
    "    text = f.read()\n",
    "    #with statement will close the file automatically\n",
    "\n",
    "print(text)"
   ]
  },
  {
   "cell_type": "code",
   "execution_count": 3,
   "id": "22b7962d",
   "metadata": {},
   "outputs": [
    {
     "name": "stdout",
     "output_type": "stream",
     "text": [
      "  If     we     knew what it was      we were doing, it would not be called research,          would it?     - Albert Einstein\n",
      "\n",
      "Time is a drug. Too       much of it kills you.  -  Terry Pratchett\n",
      "\n",
      "\n",
      " An expert is a person who       has made all the mistakes that           can be made in a          very narrow field - Niels Bohr\n",
      "\n",
      "   Everything must be made as simple as possible. But not simpler. - Albert Einstein     \n",
      "\n",
      "\n",
      "  Nothing in life                is to be feared, it is only to be understood. Now is the time to understand more, so that we may fear less. - Marie  Curie  \n",
      "\n",
      "If I have seen further     it is by standing on the shoulders of Giants. - Isaac Newton\n"
     ]
    }
   ],
   "source": [
    "#downloaded github data file\n",
    "with open(r\"C:\\Users\\shenz\\Downloads\\quotes.txt\", \"r\") as b:\n",
    "    text2 = b.read()\n",
    "print(text2)"
   ]
  },
  {
   "cell_type": "markdown",
   "id": "5ad51381",
   "metadata": {},
   "source": [
    "CLEAN THE QUOTES FILE"
   ]
  },
  {
   "cell_type": "code",
   "execution_count": 1,
   "id": "13a3d344",
   "metadata": {},
   "outputs": [],
   "source": [
    "#because we have textfile we are using a lot of string cleanign methods , we want to find patterns etc thats why we are importing re package\n",
    "import re"
   ]
  },
  {
   "cell_type": "code",
   "execution_count": 2,
   "id": "229bab63",
   "metadata": {},
   "outputs": [],
   "source": [
    "#create an empty list for saving quotes\n",
    "quotes = []\n",
    "\n",
    "#initiate a quote number \n",
    "i = 1 "
   ]
  },
  {
   "cell_type": "code",
   "execution_count": null,
   "id": "6f259450",
   "metadata": {},
   "outputs": [
    {
     "name": "stdout",
     "output_type": "stream",
     "text": [
      "<_io.TextIOWrapper name='quotes.txt' mode='r' encoding='cp1252'>\n",
      "  If     we     knew what it was      we were doing, it would not be called research,          would it?     - Albert Einstein\n",
      "\n",
      "Time is a drug. Too       much of it kills you.  -  Terry Pratchett\n",
      "\n",
      "\n",
      " An expert is a person who       has made all the mistakes that           can be made in a          very narrow field - Niels Bohr\n",
      "\n",
      "   Everything must be made as simple as possible. But not simpler. - Albert Einstein     \n",
      "\n",
      "\n",
      "  Nothing in life                is to be feared, it is only to be understood. Now is the time to understand more, so that we may fear less. - Marie  Curie  \n",
      "\n",
      "If I have seen further     it is by standing on the shoulders of Giants. - Isaac Newton\n"
     ]
    }
   ],
   "source": [
    "#open the file\n",
    "#beacuse we now have psated the file into the same directory we can refer to it like this\n",
    "#comparing the use of absolute and relative paths\n",
    "raw_file_path = \"quotes.txt\"\n",
    "\n",
    "with open(raw_file_path, \"r\") as f_read:\n",
    "    quotes = f_read.read()\n",
    "\n",
    "print(f_read) #what you can see from just opening the file\n",
    "print(quotes) #what you can see from aplying the with method on the same file\n",
    "\n"
   ]
  },
  {
   "cell_type": "code",
   "execution_count": 32,
   "id": "c0398335",
   "metadata": {},
   "outputs": [
    {
     "name": "stdout",
     "output_type": "stream",
     "text": [
      "If we knew what it was we were doing, it would not be called research, would it? - Albert Einstein\n",
      "\n",
      "Time is a drug. Too much of it kills you. - Terry Pratchett\n",
      "\n",
      "\n",
      "An expert is a person who has made all the mistakes that can be made in a very narrow field - Niels Bohr\n",
      "\n",
      "Everything must be made as simple as possible. But not simpler. - Albert Einstein\n",
      "\n",
      "\n",
      "Nothing in life is to be feared, it is only to be understood. Now is the time to understand more, so that we may fear less. - Marie Curie\n",
      "\n",
      "If I have seen further it is by standing on the shoulders of Giants. - Isaac Newton\n"
     ]
    }
   ],
   "source": [
    "# loop through lines in the file contents\n",
    "with open(raw_file_path, \"r\") as f_read:\n",
    "    for quote in f_read:\n",
    "        \n",
    "        #data cleaning first using method then using function\n",
    "        quote = quote.strip(\" \\n\") #replace the quote with a modified quote, stripe = deprive of\n",
    "        quote = re.sub(\" +\",\" \" , quote) #plus is to find instances of one or more \"spaces\" and replace those with only one \"space\"\n",
    "        #print ecah line\n",
    "        print(quote)\n",
    "        "
   ]
  },
  {
   "cell_type": "code",
   "execution_count": null,
   "id": "c2662378",
   "metadata": {},
   "outputs": [
    {
     "name": "stdout",
     "output_type": "stream",
     "text": [
      "<_io.TextIOWrapper name='quoteclean.txt' mode='r' encoding='cp1252'>\n"
     ]
    }
   ],
   "source": [
    "# open two files, one with reading mode and other with writing mode( r mode and w mode)\n",
    "i = 1\n",
    "with open(\"quotes.txt\", \"r\") as f_read, open(\"quoteclean.txt\", \"w\") as f_write: \n",
    "    for quote in f_read:\n",
    "        quote = quote.strip(\" \\n\") \n",
    "        quote = re.sub(\" +\", \" \", quote)\n",
    "        #print(quote)\n",
    "\n",
    "        if quote != \"\":\n",
    "            f_write.write(f\"{i}. {quote}\\n\")\n",
    "            i += 1 \n",
    "with open(\"quoteclean.txt\", \"r\") as newread:\n",
    "    newread2 = newread.read()\n",
    "    print(newread2)\n",
    "\n",
    "        "
   ]
  }
 ],
 "metadata": {
  "kernelspec": {
   "display_name": "nyrepo1",
   "language": "python",
   "name": "python3"
  },
  "language_info": {
   "codemirror_mode": {
    "name": "ipython",
    "version": 3
   },
   "file_extension": ".py",
   "mimetype": "text/x-python",
   "name": "python",
   "nbconvert_exporter": "python",
   "pygments_lexer": "ipython3",
   "version": "3.12.10"
  }
 },
 "nbformat": 4,
 "nbformat_minor": 5
}
