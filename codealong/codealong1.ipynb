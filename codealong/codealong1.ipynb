{
 "cells": [
  {
   "cell_type": "markdown",
   "id": "ea13f5c4",
   "metadata": {},
   "source": [
    "This lab is focused on the fundamentals of Python and working with raw data, specifically in the context of DNA sequences. Here's a breakdown of what you're expected to do:\n",
    "\n",
    "Task Overview:\n",
    "\n",
    "DNA Data:\n",
    "\n",
    "DNA is composed of four bases: A (adenine), T (thymine), C (cytosine), and G (guanine). These are the \"letters\" of the DNA sequence.\n",
    "\n",
    "Your job is to process this DNA data and extract useful information from it using Python.\n",
    "\n",
    "Goal of the Lab:\n",
    "\n",
    "Input: You'll be given a text file (dna_raw.txt) that contains several DNA sequences.\n",
    "\n",
    "The first line of each sequence is an identifier (sequence ID) that starts with a > symbol.\n",
    "\n",
    "The second line contains the actual DNA sequence (a string of A, T, C, G).\n",
    "\n",
    "Output: For each sequence, you'll count the occurrences of each DNA letter (A, T, C, G) and graph the frequency.\n",
    "\n",
    "Steps:\n",
    "\n",
    "Read the File:\n",
    "\n",
    "You need to read the DNA sequences from a file (dna_raw.txt).\n",
    "\n",
    "The file will have multiple sequences. Each sequence has two lines:\n",
    "\n",
    "Line 1: Sequence ID (it starts with a > symbol).\n",
    "\n",
    "Line 2: The DNA sequence itself.\n",
    "\n",
    "Count the DNA Bases:\n",
    "\n",
    "For each sequence, you need to count how many times each base (A, T, C, G) appears in the DNA sequence.\n",
    "\n",
    "Case-insensitive: This means you should treat lowercase and uppercase letters as the same (i.e., \"a\" = \"A\").\n",
    "\n",
    "Store Results in a Dictionary:\n",
    "\n",
    "For each DNA sequence, you'll store the counts of each base in a dictionary. For example:\n",
    "\n",
    "{\n",
    "  'A': 120,\n",
    "  'T': 115,\n",
    "  'C': 100,\n",
    "  'G': 105\n",
    "}\n",
    "\n",
    "\n",
    "Graph the Frequencies:\n",
    "\n",
    "You'll create a graph (like a bar chart) to visually represent the frequency of each DNA letter for each sequence.\n",
    "\n",
    "This can be done using libraries like matplotlib in Python.\n",
    "\n",
    "Example of the Process:\n",
    "\n",
    "Suppose dna_raw.txt contains:\n",
    "\n",
    ">seq1\n",
    "ATCGATCG\n",
    ">seq2\n",
    "GGGCCCATTAGG\n",
    "\n",
    "\n",
    "For seq1:\n",
    "\n",
    "Count occurrences of A, T, C, and G:\n",
    "\n",
    "A: 2\n",
    "\n",
    "T: 2\n",
    "\n",
    "C: 2\n",
    "\n",
    "G: 2\n",
    "\n",
    "Create a dictionary: {'A': 2, 'T': 2, 'C': 2, 'G': 2}\n",
    "\n",
    "For seq2:\n",
    "\n",
    "Count occurrences of A, T, C, and G:\n",
    "\n",
    "A: 1\n",
    "\n",
    "T: 2\n",
    "\n",
    "C: 3\n",
    "\n",
    "G: 4\n",
    "\n",
    "Create a dictionary: {'A': 1, 'T': 2, 'C': 3, 'G': 4}\n",
    "\n",
    "You will repeat this process for all the sequences in the file.\n",
    "\n",
    "Python Concepts You’ll Use:\n",
    "\n",
    "File Handling: To read data from dna_raw.txt.\n",
    "\n",
    "Dictionaries: To store the counts of DNA letters.\n",
    "\n",
    "Loops: To iterate over each sequence and count the bases.\n",
    "\n",
    "Data Visualization: Using libraries like matplotlib to graph the results.\n",
    "\n",
    "Why is This Important?\n",
    "\n",
    "Real-World Application: In fields like bioinformatics, data scientists often work with DNA data to understand genetic information. This task mimics a real-world scenario where you need to analyze and visualize genetic data.\n",
    "\n",
    "Data Processing: The lab helps you practice working with raw data and transforming it into a useful format (counts and graphs) that can be analyzed further.\n",
    "\n",
    "In Summary:\n",
    "\n",
    "Read DNA sequences from a file.\n",
    "\n",
    "Count the occurrences of each DNA base (A, T, C, G) for each sequence.\n",
    "\n",
    "Store the counts in a dictionary.\n",
    "\n",
    "Graph the frequency of the DNA bases."
   ]
  },
  {
   "cell_type": "code",
   "execution_count": null,
   "id": "a38aab2e",
   "metadata": {},
   "outputs": [],
   "source": [
    "import random as rnd #if not doing \"as rnd\" "
   ]
  },
  {
   "cell_type": "code",
   "execution_count": null,
   "id": "2b8a767a",
   "metadata": {},
   "outputs": [
    {
     "data": {
      "text/plain": [
       "6"
      ]
     },
     "execution_count": 3,
     "metadata": {},
     "output_type": "execute_result"
    }
   ],
   "source": [
    "#generat dice throw\n",
    "diceresult = rnd.randint(1,6)\n",
    "diceresult\n",
    "\n"
   ]
  },
  {
   "cell_type": "code",
   "execution_count": 6,
   "id": "31a6520a",
   "metadata": {},
   "outputs": [
    {
     "name": "stdout",
     "output_type": "stream",
     "text": [
      "i love to eat apple\n",
      "i love to eat orange\n",
      "i love to eat grape\n"
     ]
    }
   ],
   "source": [
    "#loop through a list \n",
    "fruits = [\"apple\", \"orange\", \"grape\"]\n",
    "for fruit in fruits:\n",
    "    print(f\"i love to eat {fruit}\")"
   ]
  },
  {
   "cell_type": "code",
   "execution_count": 7,
   "id": "9731549b",
   "metadata": {},
   "outputs": [
    {
     "name": "stdout",
     "output_type": "stream",
     "text": [
      "1, apple\n",
      "2, orange\n",
      "3, grape\n"
     ]
    }
   ],
   "source": [
    "for i, fruit in enumerate(fruits, 1):\n",
    "    print(f\"{i}, {fruit}\")"
   ]
  },
  {
   "cell_type": "code",
   "execution_count": null,
   "id": "cf3a92c8",
   "metadata": {},
   "outputs": [
    {
     "name": "stdout",
     "output_type": "stream",
     "text": [
      "0 ,apple\n",
      "1 ,orange\n",
      "2 ,grape\n"
     ]
    }
   ],
   "source": [
    "fruits = [\"apple\", \"orange\", \"grape\"]\n",
    "index = 0 # you make this index = -1 because with lists 1 is 0 so then you can \"inside the for loop\": put print before the counter.\n",
    "for i in fruits:\n",
    "    print(f\"{index} ,{fruits[index]}\")\n",
    "    index += 1 # you can either increment/ start this counter after printing if you want to do this code with index being index = 0\n"
   ]
  },
  {
   "cell_type": "code",
   "execution_count": 52,
   "id": "dea3f77f",
   "metadata": {},
   "outputs": [
    {
     "name": "stdout",
     "output_type": "stream",
     "text": [
      "1 , apple\n",
      "2 , banana\n",
      "3 , bacon\n"
     ]
    }
   ],
   "source": [
    "fruits2 = [\"apple\", \"banana\", \"bacon\"]\n",
    "index2 = -1\n",
    "for i in fruits2:\n",
    "    index2 += 1\n",
    "    print(f\"{index2 + 1} , {fruits2[index2]}\")"
   ]
  }
 ],
 "metadata": {
  "kernelspec": {
   "display_name": "Python 3",
   "language": "python",
   "name": "python3"
  },
  "language_info": {
   "codemirror_mode": {
    "name": "ipython",
    "version": 3
   },
   "file_extension": ".py",
   "mimetype": "text/x-python",
   "name": "python",
   "nbconvert_exporter": "python",
   "pygments_lexer": "ipython3",
   "version": "3.12.10"
  }
 },
 "nbformat": 4,
 "nbformat_minor": 5
}
