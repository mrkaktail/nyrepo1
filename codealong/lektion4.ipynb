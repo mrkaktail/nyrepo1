{
 "cells": [
  {
   "cell_type": "markdown",
   "id": "cc684c3a",
   "metadata": {},
   "source": [
    "#lecture 7\n",
    "-we have just cereated and printed out string type variable in lecture 4 and this lecture is more about strings"
   ]
  },
  {
   "cell_type": "code",
   "execution_count": 2,
   "id": "f97b6896",
   "metadata": {},
   "outputs": [
    {
     "data": {
      "text/plain": [
       "'kokchungiang'"
      ]
     },
     "execution_count": 2,
     "metadata": {},
     "output_type": "execute_result"
    }
   ],
   "source": [
    "#concatenate a string with + operator\n",
    "#remember + operator has another meaning when it comes to numeric variables\n",
    "firstname = \"kokchun\"\n",
    "lastname = \"giang\"\n",
    "\n",
    "#concatenate without \" \"\n",
    "fullname = firstname + lastname\n",
    "fullname\n"
   ]
  },
  {
   "cell_type": "code",
   "execution_count": 3,
   "id": "4d957b58",
   "metadata": {},
   "outputs": [
    {
     "data": {
      "text/plain": [
       "'kokchun giang'"
      ]
     },
     "execution_count": 3,
     "metadata": {},
     "output_type": "execute_result"
    }
   ],
   "source": [
    "#concatenate also with \" \"\n",
    "fullname2 = firstname + \" \" + lastname\n",
    "fullname2"
   ]
  },
  {
   "cell_type": "code",
   "execution_count": 4,
   "id": "ea349bfb",
   "metadata": {},
   "outputs": [
    {
     "data": {
      "text/plain": [
       "'kokchun giang'"
      ]
     },
     "execution_count": 4,
     "metadata": {},
     "output_type": "execute_result"
    }
   ],
   "source": [
    "#or like this \n",
    "space = \" \"\n",
    "fullname2 = firstname + space + lastname\n",
    "fullname2"
   ]
  },
  {
   "cell_type": "code",
   "execution_count": 5,
   "id": "c6470762",
   "metadata": {},
   "outputs": [
    {
     "name": "stdout",
     "output_type": "stream",
     "text": [
      "kokchun giang is working in a company called AIgineer AB. and his adress is Supah cool streeeeeeeeeeeeeeeeeto.\n",
      "kokchun giang is working in a company called AIgineer AB.\n",
      "      And his adress is Supah cool streeeeeeeeeeeeeeeeeto.\n"
     ]
    }
   ],
   "source": [
    "# multiline f string for concatenating for a lot of different strings \n",
    "work = \"AIgineer AB\" \n",
    "Adress = \"Supah cool streeeeeeeeeeeeeeeeeto\"\n",
    "\n",
    "# f string with one line \n",
    "print(f\"{fullname2} is working in a company called {work}. and his adress is {Adress}.\")\n",
    "\n",
    "#f strig with multiline \n",
    "print(f\"\"\"{fullname2} is working in a company called {work}.\n",
    "      And his adress is {Adress}.\"\"\")\n",
    "\n"
   ]
  },
  {
   "cell_type": "code",
   "execution_count": 6,
   "id": "4f33340e",
   "metadata": {},
   "outputs": [
    {
     "name": "stdout",
     "output_type": "stream",
     "text": [
      "todays fruits: apple, orange, strawberry\n",
      "apple\n",
      "orange\n",
      "strawberry\n"
     ]
    }
   ],
   "source": [
    "#concatenation with loop\n",
    "\n",
    "fruits_today = \"apple, \" + \"orange, \" + \"strawberry\"\n",
    "print(f\"todays fruits: {fruits_today}\")\n",
    "\n",
    "fruits_today = [\"apple\", \"orange\", \"strawberry\"]\n",
    "for fruit in fruits_today:\n",
    "    print(fruit)\n"
   ]
  },
  {
   "cell_type": "markdown",
   "id": "5bf9c6ef",
   "metadata": {},
   "source": [
    "INDEXING\n"
   ]
  },
  {
   "cell_type": "code",
   "execution_count": 7,
   "id": "dd6c88c5",
   "metadata": {},
   "outputs": [
    {
     "name": "stdout",
     "output_type": "stream",
     "text": [
      "the first letter of the string is: g\n",
      "the first letter of hte stirng is: g\n"
     ]
    }
   ],
   "source": [
    "#index \n",
    "print(f\"the first letter of the string is: {fullname2[-1]}\") \n",
    "print(f\"the first letter of hte stirng is: {fullname2[12]}\")\n"
   ]
  },
  {
   "cell_type": "code",
   "execution_count": null,
   "id": "dd73f943",
   "metadata": {},
   "outputs": [
    {
     "name": "stdout",
     "output_type": "stream",
     "text": [
      "kokchun giang\n",
      "The first three letters: kok\n",
      "the first five letters: giang\n",
      "The last five letters: gnaig nuhcko\n"
     ]
    }
   ],
   "source": [
    "#slicing\n",
    "#we can use : operator for slicing \n",
    "print(fullname2)\n",
    "print(f\"The first three letters: {fullname2[0:3]}\")\n",
    "print(f\"the first five letters: {fullname2[-5:1]}\")\n",
    "\n",
    "#slicing reversely\n",
    "print(f\"The last five letters: {fullname2[-1:0:-1]}\")"
   ]
  },
  {
   "cell_type": "markdown",
   "id": "1d0237a6",
   "metadata": {},
   "source": [
    "Some common exampels to clean strings "
   ]
  },
  {
   "cell_type": "code",
   "execution_count": null,
   "id": "3a97b878",
   "metadata": {},
   "outputs": [
    {
     "name": "stdout",
     "output_type": "stream",
     "text": [
      "adsd\n",
      "jshsh\n",
      "-----\n",
      "adsd\n",
      "jshsh\n",
      "-----\n"
     ]
    }
   ],
   "source": [
    "#iterate over 2 lists at same time\n",
    "#question in class \n",
    "name123 = [\"adsd\", \"jsjsj\"]\n",
    "adress123 = [\"ads\", \"jshsh\"]\n",
    "\n",
    "for name, adress in zip(name123, adress123):\n",
    "    print(name123[0])\n",
    "    print(adress123[1])\n",
    "    print(\"-----\")\n"
   ]
  },
  {
   "cell_type": "markdown",
   "id": "0cc2dd10",
   "metadata": {},
   "source": [
    "#some common examples to clean strings \n",
    "-make use of string methods \n",
    "-a good introduction to many common sting metods "
   ]
  },
  {
   "cell_type": "code",
   "execution_count": 55,
   "id": "809e4363",
   "metadata": {},
   "outputs": [
    {
     "name": "stdout",
     "output_type": "stream",
     "text": [
      "['math', ' biology  ', 'ChEmIsTRy', ' PrOGRamming     ']\n"
     ]
    },
    {
     "data": {
      "text/plain": [
       "list"
      ]
     },
     "execution_count": 55,
     "metadata": {},
     "output_type": "execute_result"
    }
   ],
   "source": [
    "#splitting a string\n",
    "#messy string\n",
    "subjects = \"math, biology  ,ChEmIsTRy, PrOGRamming     \"\n",
    "\n",
    "subject = subjects.split(\",\")\n",
    "print(subject)\n",
    "type(subject)\n",
    "\n"
   ]
  },
  {
   "cell_type": "code",
   "execution_count": null,
   "id": "376f098d",
   "metadata": {},
   "outputs": [
    {
     "name": "stdout",
     "output_type": "stream",
     "text": [
      "m\n",
      "a\n",
      "t\n",
      "h\n",
      ",\n",
      "\n",
      "b\n",
      "i\n",
      "o\n",
      "l\n",
      "o\n",
      "g\n",
      "y\n",
      "\n",
      "\n",
      ",\n",
      "C\n",
      "h\n",
      "E\n",
      "m\n",
      "I\n",
      "s\n",
      "T\n",
      "R\n",
      "y\n",
      ",\n",
      "\n",
      "P\n",
      "r\n",
      "O\n",
      "G\n",
      "R\n",
      "a\n",
      "m\n",
      "m\n",
      "i\n",
      "n\n",
      "g\n",
      "\n",
      "\n",
      "\n",
      "\n",
      "\n"
     ]
    }
   ],
   "source": [
    "#strip off leading and trailing spaces \n",
    "for subject in subjects:\n",
    "    print(subject.strip(\"\"))"
   ]
  },
  {
   "cell_type": "code",
   "execution_count": 68,
   "id": "ff7423ec",
   "metadata": {},
   "outputs": [
    {
     "name": "stdout",
     "output_type": "stream",
     "text": [
      "\n",
      "\n",
      "\n",
      "\n",
      "\n",
      "\n",
      "\n",
      "\n",
      "\n",
      "\n",
      "\n",
      "\n",
      "\n",
      "\n",
      "\n",
      "\n",
      "\n",
      "\n",
      "\n",
      "\n",
      "\n",
      "\n",
      "\n",
      "\n",
      "\n",
      "\n",
      "\n",
      "\n",
      "\n",
      "\n",
      "\n",
      "\n",
      "\n",
      "\n",
      "\n",
      "\n",
      "\n",
      "\n",
      "\n",
      "\n",
      "\n",
      "\n",
      "\n"
     ]
    }
   ],
   "source": [
    "#makign uppercase letter\n",
    "for sbject in subjects: \n",
    "    print(subject.strip().upper())"
   ]
  },
  {
   "cell_type": "code",
   "execution_count": 61,
   "id": "31fec8e5",
   "metadata": {},
   "outputs": [
    {
     "data": {
      "text/plain": [
       "13"
      ]
     },
     "execution_count": 61,
     "metadata": {},
     "output_type": "execute_result"
    }
   ],
   "source": [
    "#use len() function to check the length of string\n",
    "len(fullname2)"
   ]
  },
  {
   "cell_type": "markdown",
   "id": "0d362dca",
   "metadata": {},
   "source": [
    "regular expression\n",
    "-look fo a pattern\n",
    "-make use of different functions in `re` package\n",
    "-syntax of isong funstions form an imported package\n",
    "    -re.findall()\n",
    "    -imported_package.function #imported package is "
   ]
  },
  {
   "cell_type": "code",
   "execution_count": 71,
   "id": "d5e1064f",
   "metadata": {},
   "outputs": [
    {
     "data": {
      "text/plain": [
       "['att', 'att']"
      ]
     },
     "execution_count": 71,
     "metadata": {},
     "output_type": "execute_result"
    }
   ],
   "source": [
    "import re\n",
    "\n",
    "text = \"Det var en gang en katt som tog pa sig en hatt\"\n",
    "list_letter_att = re.findall(\"att\", text) #the first argument is the patter i ant to find, the second path is where i watn to find the pattern\n",
    "\n",
    "list_letter_att "
   ]
  },
  {
   "cell_type": "code",
   "execution_count": 78,
   "id": "2f8dedd7",
   "metadata": {},
   "outputs": [
    {
     "data": {
      "text/plain": [
       "['va', 'ga', 'ka', 'pa', 'ha']"
      ]
     },
     "execution_count": 78,
     "metadata": {},
     "output_type": "execute_result"
    }
   ],
   "source": [
    "text = \"Det var en gang en katt som tog pa sig en hatt\"\n",
    "list_letter_att = re.findall(\".a\", text) #the first argument is the patter i ant to find, the second path is where i watn to find the pattern\n",
    "\n",
    "list_letter_att "
   ]
  },
  {
   "cell_type": "code",
   "execution_count": null,
   "id": "99bd46ba",
   "metadata": {},
   "outputs": [
    {
     "data": {
      "text/plain": [
       "['19950516']"
      ]
     },
     "execution_count": 81,
     "metadata": {},
     "output_type": "execute_result"
    }
   ],
   "source": [
    "#patterns of numbers \n",
    "person_number = \"ida: 19950516-2235, Berit: 890806-3212\"\n",
    "personal_number8digits  = re.findall(r\"\\d{8}\", person_number) #d is digits, r means raw string\n",
    "personal_number8digits"
   ]
  },
  {
   "cell_type": "code",
   "execution_count": null,
   "id": "ab9d4caa",
   "metadata": {},
   "outputs": [
    {
     "data": {
      "text/plain": [
       "['19950516-']"
      ]
     },
     "execution_count": 82,
     "metadata": {},
     "output_type": "execute_result"
    }
   ],
   "source": [
    "#set \"-\" at the end \n",
    "person_number = \"ida: 19950516-2235, Berit: 890806-3212\"\n",
    "personal_number8digits  = re.findall(r\"\\d{8}-\", person_number) #d is digits, r means raw string\n",
    "personal_number8digits"
   ]
  },
  {
   "cell_type": "code",
   "execution_count": null,
   "id": "b68a7d69",
   "metadata": {},
   "outputs": [
    {
     "data": {
      "text/plain": [
       "['19950516-2235']"
      ]
     },
     "execution_count": 83,
     "metadata": {},
     "output_type": "execute_result"
    }
   ],
   "source": [
    "#set \"-\" and \"d\" at the end\n",
    "person_number = \"ida: 19950516-2235, Berit: 890806-3212\"\n",
    "personal_number8digits  = re.findall(r\"\\d{8}-\\d{4}\", person_number) #second d for 4 digits after the -\n",
    "personal_number8digits "
   ]
  },
  {
   "cell_type": "markdown",
   "id": "81dc3a28",
   "metadata": {},
   "source": [
    "error handling \n",
    "-add error handlig for blocks of codes that can encounter errors \n",
    "-because we dont want to crash the program\n",
    "-make use of the (try except) block"
   ]
  },
  {
   "cell_type": "code",
   "execution_count": null,
   "id": "70157b48",
   "metadata": {},
   "outputs": [
    {
     "ename": "NameError",
     "evalue": "name 'x' is not defined",
     "output_type": "error",
     "traceback": [
      "\u001b[31m---------------------------------------------------------------------------\u001b[39m",
      "\u001b[31mNameError\u001b[39m                                 Traceback (most recent call last)",
      "\u001b[36mCell\u001b[39m\u001b[36m \u001b[39m\u001b[32mIn[1]\u001b[39m\u001b[32m, line 1\u001b[39m\n\u001b[32m----> \u001b[39m\u001b[32m1\u001b[39m \u001b[38;5;28mprint\u001b[39m(\u001b[43mx\u001b[49m)\n",
      "\u001b[31mNameError\u001b[39m: name 'x' is not defined"
     ]
    }
   ],
   "source": [
    "#without error handling, the code below will crash\n",
    "print(x)\n"
   ]
  },
  {
   "cell_type": "code",
   "execution_count": 2,
   "id": "7fad7aa0",
   "metadata": {},
   "outputs": [
    {
     "name": "stdout",
     "output_type": "stream",
     "text": [
      "there is an error in the try block\n"
     ]
    }
   ],
   "source": [
    "# add try except to the code above \n",
    "try: \n",
    "    #under the try block, put the potenitally problematic codes\n",
    "    print(x)\n",
    "except:\n",
    "    #when the try blokc encounters error, run the except block instead of crashing\n",
    "    print(\"there is an error in the try block\")\n"
   ]
  },
  {
   "cell_type": "code",
   "execution_count": 7,
   "id": "cb4fc054",
   "metadata": {},
   "outputs": [
    {
     "name": "stdout",
     "output_type": "stream",
     "text": [
      "Variable x is not being found yet.\n"
     ]
    }
   ],
   "source": [
    "#make use of multiple except blocks \n",
    "try:\n",
    "    print(x)\n",
    "except NameError: \n",
    "    print(\"Variable x is not being found yet.\") \n",
    "except: \n",
    "    print(\"Some other error happened\")\n"
   ]
  },
  {
   "cell_type": "code",
   "execution_count": 23,
   "id": "bd13aece",
   "metadata": {},
   "outputs": [
    {
     "name": "stdout",
     "output_type": "stream",
     "text": [
      "There is a an error that is not a NameError\n"
     ]
    }
   ],
   "source": [
    "#example taht is not name error \n",
    "try:\n",
    "    print(1/0)\n",
    "except NameError: \n",
    "    print(\"therer is a NameError\")\n",
    "except: \n",
    "    print(\"There is a an error that is not a NameError\")"
   ]
  },
  {
   "cell_type": "code",
   "execution_count": null,
   "id": "3b79efd1",
   "metadata": {},
   "outputs": [],
   "source": [
    "#make use of error message \n",
    "try: \n",
    "    print(x)\n",
    "except NameError as err:\n",
    "    print(err)\n",
    "\n",
    "except: \n",
    "    print( \"soemthing else\")"
   ]
  },
  {
   "cell_type": "code",
   "execution_count": null,
   "id": "9c796f0a",
   "metadata": {},
   "outputs": [],
   "source": [
    "#"
   ]
  }
 ],
 "metadata": {
  "kernelspec": {
   "display_name": "nyrepo1",
   "language": "python",
   "name": "python3"
  },
  "language_info": {
   "codemirror_mode": {
    "name": "ipython",
    "version": 3
   },
   "file_extension": ".py",
   "mimetype": "text/x-python",
   "name": "python",
   "nbconvert_exporter": "python",
   "pygments_lexer": "ipython3",
   "version": "3.12.10"
  }
 },
 "nbformat": 4,
 "nbformat_minor": 5
}
