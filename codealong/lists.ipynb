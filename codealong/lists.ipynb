{
 "cells": [
  {
   "cell_type": "markdown",
   "id": "03a2f814",
   "metadata": {},
   "source": [
    "characteristic of lists \n",
    "-iterable \n",
    "-one of the collection data types\n",
    "-used for storing several items in a variable"
   ]
  },
  {
   "cell_type": "code",
   "execution_count": 2,
   "id": "c6508ef1",
   "metadata": {},
   "outputs": [],
   "source": [
    "tv_shows = [\"antikrundan\", \"masterkockarna\", \"aktuellt\", \"talang\"]\n"
   ]
  },
  {
   "cell_type": "markdown",
   "id": "266c1738",
   "metadata": {},
   "source": [
    "#access an item"
   ]
  },
  {
   "cell_type": "code",
   "execution_count": 3,
   "id": "001eef49",
   "metadata": {},
   "outputs": [
    {
     "data": {
      "text/plain": [
       "'masterkockarna'"
      ]
     },
     "execution_count": 3,
     "metadata": {},
     "output_type": "execute_result"
    }
   ],
   "source": [
    "tv_shows[1] #second item"
   ]
  },
  {
   "cell_type": "code",
   "execution_count": 5,
   "id": "5c01b0f4",
   "metadata": {},
   "outputs": [
    {
     "data": {
      "text/plain": [
       "'talang'"
      ]
     },
     "execution_count": 5,
     "metadata": {},
     "output_type": "execute_result"
    }
   ],
   "source": [
    "#access the last item\n",
    "last_index = len(tv_shows) - 1\n",
    "#tv_shows[4] ------ will show error: list out of range because [4] is 5th item in it. \n",
    "tv_shows[last_index]\n",
    "#access last item by counting form the left\n"
   ]
  },
  {
   "cell_type": "code",
   "execution_count": null,
   "id": "e4352fda",
   "metadata": {},
   "outputs": [
    {
     "data": {
      "text/plain": [
       "'antikrundan'"
      ]
     },
     "execution_count": 6,
     "metadata": {},
     "output_type": "execute_result"
    }
   ],
   "source": [
    "#acces last item form the right\n",
    "tv_shows[-4] #aka first item in list"
   ]
  },
  {
   "cell_type": "code",
   "execution_count": 7,
   "id": "d47aa826",
   "metadata": {},
   "outputs": [
    {
     "data": {
      "text/plain": [
       "'talang'"
      ]
     },
     "execution_count": 7,
     "metadata": {},
     "output_type": "execute_result"
    }
   ],
   "source": [
    "#so actual last item is list[-1]\n",
    "tv_shows[-1]"
   ]
  },
  {
   "cell_type": "markdown",
   "id": "9ee7b07d",
   "metadata": {},
   "source": [
    "iTERATE THROUGH A LIST "
   ]
  },
  {
   "cell_type": "code",
   "execution_count": 8,
   "id": "743e4daa",
   "metadata": {},
   "outputs": [
    {
     "name": "stdout",
     "output_type": "stream",
     "text": [
      "antikrundan\n",
      "masterkockarna\n",
      "aktuellt\n",
      "talang\n"
     ]
    }
   ],
   "source": [
    "for show in tv_shows:\n",
    "    print(show)"
   ]
  },
  {
   "cell_type": "markdown",
   "id": "d0a54683",
   "metadata": {},
   "source": [
    "change calue of list item "
   ]
  },
  {
   "cell_type": "code",
   "execution_count": 10,
   "id": "cd95b8dd",
   "metadata": {},
   "outputs": [
    {
     "data": {
      "text/plain": [
       "['vetenskapsprogrammet', 'masterkockarna', 'aktuellt', 'talang']"
      ]
     },
     "execution_count": 10,
     "metadata": {},
     "output_type": "execute_result"
    }
   ],
   "source": [
    "#assign new valeue to list item\n",
    "tv_shows[0] = \"vetenskapsprogrammet\"\n",
    "tv_shows"
   ]
  },
  {
   "cell_type": "markdown",
   "id": "e0f37e24",
   "metadata": {},
   "source": [
    "append new value to list"
   ]
  },
  {
   "cell_type": "code",
   "execution_count": null,
   "id": "51a9de48",
   "metadata": {},
   "outputs": [
    {
     "data": {
      "text/plain": [
       "['kaka',\n",
       " 'vetenskapsprogrammet',\n",
       " 'masterkockarna',\n",
       " 'aktuellt',\n",
       " 'talang',\n",
       " 'haha']"
      ]
     },
     "execution_count": 19,
     "metadata": {},
     "output_type": "execute_result"
    }
   ],
   "source": [
    "#add neew item as the last item\n",
    "tv_shows.append(\"haha\")\n",
    "tv_shows\n",
    "while tv_shows.count(\"haha\") > 1: # This line to prevent list from updating with multiple \"haha\" items on every run\n",
    "    tv_shows.remove(\"haha\")       #-\"\"-\n",
    "#append/add something but to the first index/beginning of a list\n",
    "tv_shows.insert(0, \"kaka\")\n",
    "while tv_shows.count(\"kaka\") > 1: #This line prevents \"kaka\" from being added on every run aswell\n",
    "    tv_shows.remove(\"kaka\")       #-\"\"-  \n",
    "tv_shows\n",
    "#something coming out of OOP class in few weeks (class, object, method attributes etc)"
   ]
  },
  {
   "cell_type": "code",
   "execution_count": null,
   "id": "f25ead66",
   "metadata": {},
   "outputs": [
    {
     "data": {
      "text/plain": [
       "['kaka', 'vetenskapsprogrammet']"
      ]
     },
     "execution_count": 21,
     "metadata": {},
     "output_type": "execute_result"
    }
   ],
   "source": [
    "#access multiple items from list (its called slicing when accessing mutiple indexes in list vs indexing)\n",
    "tv_shows[0:2]"
   ]
  },
  {
   "cell_type": "markdown",
   "id": "f3640fcb",
   "metadata": {},
   "source": [
    "sort a list"
   ]
  },
  {
   "cell_type": "code",
   "execution_count": null,
   "id": "c5444dae",
   "metadata": {},
   "outputs": [
    {
     "data": {
      "text/plain": [
       "['aktuellt',\n",
       " 'haha',\n",
       " 'kaka',\n",
       " 'masterkockarna',\n",
       " 'talang',\n",
       " 'vetenskapsprogrammet']"
      ]
     },
     "execution_count": 22,
     "metadata": {},
     "output_type": "execute_result"
    }
   ],
   "source": [
    "tv_shows.sort() #it sorts by ascending order (alphabetical and counting up from integer) by default\n",
    "tv_shows"
   ]
  },
  {
   "cell_type": "code",
   "execution_count": null,
   "id": "1e963909",
   "metadata": {},
   "outputs": [
    {
     "data": {
      "text/plain": [
       "['vetenskapsprogrammet',\n",
       " 'talang',\n",
       " 'masterkockarna',\n",
       " 'kaka',\n",
       " 'haha',\n",
       " 'aktuellt']"
      ]
     },
     "execution_count": 23,
     "metadata": {},
     "output_type": "execute_result"
    }
   ],
   "source": [
    "#descending order \n",
    "tv_shows.sort(reverse=True) \n",
    "tv_shows"
   ]
  },
  {
   "cell_type": "markdown",
   "id": "09c2ab93",
   "metadata": {},
   "source": [
    "create a list by list comprehension\n",
    "-when creating a list from another iterable"
   ]
  },
  {
   "cell_type": "code",
   "execution_count": 24,
   "id": "fec4a1a8",
   "metadata": {},
   "outputs": [
    {
     "data": {
      "text/plain": [
       "[1, 8, 27, 64, 125, 216, 343, 512, 729]"
      ]
     },
     "execution_count": 24,
     "metadata": {},
     "output_type": "execute_result"
    }
   ],
   "source": [
    "cubes = [x**3 for x in range(1, 10)]\n",
    "cubes"
   ]
  },
  {
   "cell_type": "code",
   "execution_count": 27,
   "id": "1f4e9610",
   "metadata": {},
   "outputs": [
    {
     "name": "stdout",
     "output_type": "stream",
     "text": [
      "[1, 4, 9, 16]\n"
     ]
    }
   ],
   "source": [
    "numbers = [1, 2, 3, 4]\n",
    "squares = [x**2 for x in numbers]\n",
    "print(squares)  # Output: [1, 4, 9, 16]\n"
   ]
  }
 ],
 "metadata": {
  "kernelspec": {
   "display_name": "Python 3",
   "language": "python",
   "name": "python3"
  },
  "language_info": {
   "codemirror_mode": {
    "name": "ipython",
    "version": 3
   },
   "file_extension": ".py",
   "mimetype": "text/x-python",
   "name": "python",
   "nbconvert_exporter": "python",
   "pygments_lexer": "ipython3",
   "version": "3.12.10"
  }
 },
 "nbformat": 4,
 "nbformat_minor": 5
}
