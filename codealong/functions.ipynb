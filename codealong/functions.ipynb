{
 "cells": [
  {
   "cell_type": "code",
   "execution_count": null,
   "id": "20fdff3d",
   "metadata": {},
   "outputs": [
    {
     "name": "stdout",
     "output_type": "stream",
     "text": [
      ">seq1\n",
      "cgtaaccaataaaaaaacaagcttaacctaattc\n",
      ">seq2\n",
      "agcttagtttggatctggccgggg\n",
      ">seq3\n",
      "gcggatttactccccccaaaaannaggggagagcccagataaatggagtctgtgcgtccaca\n",
      ">seq4\n",
      "gcggatttactcaggggagagcccagggataaatggagtctgtgcgtccaca\n"
     ]
    }
   ],
   "source": [
    "with open(r\"C:\\Users\\shenz\\Downloads\\dna_raw.txt\", \"r\") as f:\n",
    "    dnatext = f.read()\n",
    "    dnalower = dnatext.lower()\n",
    "    print(dnalower)\n",
    "listoflists = []\n",
    "for line in dnalower:\n",
    "    line = line.strip()\n",
    "    new_list = [line]\n",
    "    listoflists = listoflists.append(new_list)\n",
    "print(listoflists)"
   ]
  }
 ],
 "metadata": {
  "kernelspec": {
   "display_name": "nyrepo1",
   "language": "python",
   "name": "python3"
  },
  "language_info": {
   "codemirror_mode": {
    "name": "ipython",
    "version": 3
   },
   "file_extension": ".py",
   "mimetype": "text/x-python",
   "name": "python",
   "nbconvert_exporter": "python",
   "pygments_lexer": "ipython3",
   "version": "3.12.10"
  }
 },
 "nbformat": 4,
 "nbformat_minor": 5
}
