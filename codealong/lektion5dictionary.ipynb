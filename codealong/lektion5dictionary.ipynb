{
 "cells": [
  {
   "cell_type": "markdown",
   "id": "6b28f3b5",
   "metadata": {},
   "source": [
    "Dictionary "
   ]
  },
  {
   "cell_type": "markdown",
   "id": "e6205c90",
   "metadata": {},
   "source": [
    "-also a collection data type \n",
    "-the data is stored in key-value pairs"
   ]
  },
  {
   "cell_type": "markdown",
   "id": "fdaa019b",
   "metadata": {},
   "source": [
    "####create a dictionary with dict() class"
   ]
  },
  {
   "cell_type": "code",
   "execution_count": 2,
   "id": "c689fd80",
   "metadata": {},
   "outputs": [],
   "source": [
    "#instantiate a dictionary object or person\n",
    "person = dict(\n",
    "    name = \"Kokchun\", \n",
    "    age = 34.9, \n",
    "    work = \"teacher\"\n",
    ")"
   ]
  },
  {
   "cell_type": "code",
   "execution_count": 6,
   "id": "a861b425",
   "metadata": {},
   "outputs": [
    {
     "name": "stdout",
     "output_type": "stream",
     "text": [
      "Kokchun\n",
      "teacher\n"
     ]
    }
   ],
   "source": [
    "# if i want to retrieve data from this dictionary by referring to key\n",
    "\n",
    "print(person[\"name\"]) # compare to indexing in a list like list_a[0] \n",
    "print(person['work']) #printing piut the value of key: \"work\"\n",
    "\n"
   ]
  },
  {
   "cell_type": "markdown",
   "id": "bb6460e0",
   "metadata": {},
   "source": [
    "create a dictionary with {}"
   ]
  },
  {
   "cell_type": "code",
   "execution_count": 20,
   "id": "ec25bcf9",
   "metadata": {},
   "outputs": [],
   "source": [
    "person = {'name':'Kokchun',     #were doing the exact same dictionary here\n",
    "           'age':34.9, \n",
    "           'work': 'teacher',\n",
    "           'interest': ['math', 'python', 'yoga'],\n",
    "           'adress': {'country': 'Sweden', 'city': 'Stockholm'} #you can even do this\n",
    "         }"
   ]
  },
  {
   "cell_type": "code",
   "execution_count": 24,
   "id": "d326f95d",
   "metadata": {},
   "outputs": [
    {
     "name": "stdout",
     "output_type": "stream",
     "text": [
      "math\n",
      "{'country': 'Sweden', 'city': 'Stockholm'}\n"
     ]
    }
   ],
   "source": [
    "print(person['interest'][0]) #print only one interest\n",
    "print(person['adress'])"
   ]
  },
  {
   "cell_type": "markdown",
   "id": "d3bef152",
   "metadata": {},
   "source": [
    "Iterate over a dictionary"
   ]
  },
  {
   "cell_type": "code",
   "execution_count": 25,
   "id": "eaf9a681",
   "metadata": {},
   "outputs": [],
   "source": [
    "words = {\n",
    "        \"data structure\": \"means of storing data\", \n",
    "        \"regression\": \"a function to best fit the data\",\n",
    "        \"method\": \"a function bound to an object\"\n",
    "}"
   ]
  },
  {
   "cell_type": "code",
   "execution_count": null,
   "id": "027c18e5",
   "metadata": {},
   "outputs": [
    {
     "name": "stdout",
     "output_type": "stream",
     "text": [
      "key:data structure\n",
      "value:means of storing data\n",
      "------------------------------\n",
      "key:regression\n",
      "value:a function to best fit the data\n",
      "------------------------------\n",
      "key:method\n",
      "value:a function bound to an object\n",
      "------------------------------\n"
     ]
    }
   ],
   "source": [
    "#iterate over both keys and values \n",
    "for key, value in words.items():\n",
    "    print(f\"key:{key}\")\n",
    "    print(f\"value:{value}\")\n",
    "    print(\"------------------------------\")"
   ]
  },
  {
   "cell_type": "code",
   "execution_count": 37,
   "id": "4b898622",
   "metadata": {},
   "outputs": [
    {
     "name": "stdout",
     "output_type": "stream",
     "text": [
      "key:data structure\n",
      "-----------------------\n",
      "key:regression\n",
      "-----------------------\n",
      "key:method\n",
      "-----------------------\n"
     ]
    }
   ],
   "source": [
    "# iterative over keys \n",
    "for key in words.keys():\n",
    "    print(f\"key:{key}\")\n",
    "    print(\"-----------------------\")"
   ]
  },
  {
   "cell_type": "code",
   "execution_count": 39,
   "id": "cf5480e9",
   "metadata": {},
   "outputs": [
    {
     "name": "stdout",
     "output_type": "stream",
     "text": [
      "value:means of storing data\n",
      "----------------------\n",
      "value:a function to best fit the data\n",
      "----------------------\n",
      "value:a function bound to an object\n",
      "----------------------\n"
     ]
    }
   ],
   "source": [
    "# iterative over value\n",
    "for value in words.values():\n",
    "    print(f\"value:{value}\")\n",
    "    print(\"----------------------\")"
   ]
  },
  {
   "cell_type": "markdown",
   "id": "3b1b5c36",
   "metadata": {},
   "source": [
    "Dictionary comprehension"
   ]
  },
  {
   "cell_type": "code",
   "execution_count": 43,
   "id": "d96a8116",
   "metadata": {},
   "outputs": [
    {
     "name": "stdout",
     "output_type": "stream",
     "text": [
      "{'F': 0, 'E': 10, 'D': 20, 'C': 30, 'B': 40, 'A': 50}\n"
     ]
    }
   ],
   "source": [
    "# we want to produce a dictionary called grade_limit \n",
    "\n",
    "#create from scratch manually\n",
    "grade_limit = {\n",
    "              \"F\": 0,\n",
    "              \"E\": 10,\n",
    "              \"D\": 20,\n",
    "              \"C\": 30,\n",
    "              \"B\": 40,\n",
    "              \"A\": 50\n",
    "}\n",
    "print(grade_limit)"
   ]
  },
  {
   "cell_type": "code",
   "execution_count": null,
   "id": "7e7f0b19",
   "metadata": {},
   "outputs": [],
   "source": [
    "#what .enumirate() does "
   ]
  },
  {
   "cell_type": "code",
   "execution_count": null,
   "id": "07f0fc77",
   "metadata": {},
   "outputs": [
    {
     "name": "stdout",
     "output_type": "stream",
     "text": [
      "0\n",
      "F\n",
      "1\n",
      "E\n",
      "2\n",
      "D\n",
      "3\n",
      "C\n",
      "4\n",
      "B\n",
      "5\n",
      "A\n"
     ]
    }
   ],
   "source": [
    "for i, grade in enumerate(\"FEDCBA\"):\n",
    "    print(i)\n",
    "    print(grade\n",
    "    )   "
   ]
  },
  {
   "cell_type": "code",
   "execution_count": null,
   "id": "26343be6",
   "metadata": {},
   "outputs": [],
   "source": [
    "#create the same dictionary but with comprehension"
   ]
  },
  {
   "cell_type": "code",
   "execution_count": 48,
   "id": "64ea9a2c",
   "metadata": {},
   "outputs": [
    {
     "name": "stdout",
     "output_type": "stream",
     "text": [
      "{'F': 0, 'E': 10, 'D': 20, 'C': 30, 'B': 40, 'A': 50}\n"
     ]
    }
   ],
   "source": [
    "grade_limit = {grade: i*10 for i, grade in enumerate(\"FEDCBA\")}\n",
    "print(grade_limit)"
   ]
  }
 ],
 "metadata": {
  "kernelspec": {
   "display_name": "nyrepo1",
   "language": "python",
   "name": "python3"
  },
  "language_info": {
   "codemirror_mode": {
    "name": "ipython",
    "version": 3
   },
   "file_extension": ".py",
   "mimetype": "text/x-python",
   "name": "python",
   "nbconvert_exporter": "python",
   "pygments_lexer": "ipython3",
   "version": "3.12.10"
  }
 },
 "nbformat": 4,
 "nbformat_minor": 5
}
