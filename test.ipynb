{
 "cells": [
  {
   "cell_type": "markdown",
   "id": "2c73735f",
   "metadata": {},
   "source": [
    "#### hello"
   ]
  },
  {
   "cell_type": "code",
   "execution_count": null,
   "id": "a2b9791d",
   "metadata": {},
   "outputs": [
    {
     "name": "stdout",
     "output_type": "stream",
     "text": [
      "0\n",
      "1\n",
      "2\n",
      "3\n",
      "4\n",
      "5\n",
      "6\n",
      "7\n",
      "8\n",
      "9\n",
      "10\n"
     ]
    }
   ],
   "source": [
    "number = int((input(\"hello whats your name\")))\n",
    "#print(f\"hello {name}\")\n",
    "#print(name) \n",
    "for i in range(number + 1): \n",
    "    print(i)\n"
   ]
  }
 ],
 "metadata": {
  "kernelspec": {
   "display_name": "Python 3",
   "language": "python",
   "name": "python3"
  },
  "language_info": {
   "codemirror_mode": {
    "name": "ipython",
    "version": 3
   },
   "file_extension": ".py",
   "mimetype": "text/x-python",
   "name": "python",
   "nbconvert_exporter": "python",
   "pygments_lexer": "ipython3",
   "version": "3.12.10"
  }
 },
 "nbformat": 4,
 "nbformat_minor": 5
}
