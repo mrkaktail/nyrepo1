{
 "cells": [
  {
   "cell_type": "code",
   "execution_count": null,
   "id": "534beb34",
   "metadata": {},
   "outputs": [
    {
     "name": "stdout",
     "output_type": "stream",
     "text": [
      "six was rolled 22 times\n"
     ]
    }
   ],
   "source": [
    "#simulate dicerolls\n",
    "import random\n",
    "\n",
    "dice = 0\n",
    "results = []\n",
    "outcomesix = 0\n",
    "for i in range(0, 100):\n",
    "    dice = random.randint(1,6)\n",
    "    results.append(dice)\n",
    "for b in results:\n",
    "    if b == 6:\n",
    "        outcomesix += 1\n",
    "print(f\"six was rolled {outcomesix} times\")"
   ]
  },
  {
   "cell_type": "code",
   "execution_count": 35,
   "id": "d0e80d99",
   "metadata": {},
   "outputs": [
    {
     "name": "stdout",
     "output_type": "stream",
     "text": [
      "10\n",
      "100\n",
      "1000\n",
      "10000\n",
      "100000\n",
      "1000000\n"
     ]
    }
   ],
   "source": [
    "key = 1\n",
    "while key < 1000000: \n",
    "    key = key * 10\n",
    "    print(key)"
   ]
  },
  {
   "cell_type": "code",
   "execution_count": 44,
   "id": "0b17936f",
   "metadata": {},
   "outputs": [
    {
     "name": "stdout",
     "output_type": "stream",
     "text": [
      "['probability of rolling six in 10, was 20.0%', 'probability of rolling six in 100, was 20.0%', 'probability of rolling six in 1000, was 21.8%', 'probability of rolling six in 10000, was 20.75%', 'probability of rolling six in 100000, was 20.594%', 'probability of rolling six in 1000000, was 20.5302%']\n"
     ]
    }
   ],
   "source": [
    "import random\n",
    "\n",
    "dice = 0\n",
    "results = []\n",
    "outcomesix = 0\n",
    "key = 1\n",
    "simulationlist = []\n",
    "probabilityofsix = []\n",
    "while key < 1000000:\n",
    "    key = key * 10\n",
    "    #print(key)\n",
    "    for i in range(0, key):\n",
    "        dice = random.randint(1,6)\n",
    "        results.append(dice)\n",
    "    for b in results:\n",
    "        if b == 6:\n",
    "            outcomesix += 1\n",
    "    #simulationlist.append(f\"six was rolled {outcomesix} times in {key}\")\n",
    "    probabilityofsix.append(f\"probability of rolling six in {key}, was {(outcomesix/key) * 100}%\")\n",
    "    \n",
    "print(probabilityofsix)"
   ]
  },
  {
   "cell_type": "code",
   "execution_count": 50,
   "id": "eb950e8d",
   "metadata": {},
   "outputs": [
    {
     "data": {
      "text/plain": [
       "[<matplotlib.lines.Line2D at 0x128b155a300>]"
      ]
     },
     "execution_count": 50,
     "metadata": {},
     "output_type": "execute_result"
    },
    {
     "data": {
      "image/png": "[encoded data removed]",
      "text/plain": [
       "<Figure size 640x480 with 1 Axes>"
      ]
     },
     "metadata": {},
     "output_type": "display_data"
    }
   ],
   "source": [
    "#plot in matplot\n",
    "import random\n",
    "import matplotlib.pyplot as plt \n",
    "\n",
    "dice = 0\n",
    "results = []\n",
    "outcomesix = 0\n",
    "key = 1\n",
    "simulationlist = []\n",
    "probabilityofsix = []\n",
    "while key < 1000000:\n",
    "    key = key * 10\n",
    "    #print(key)\n",
    "    for i in range(0, key):\n",
    "        dice = random.randint(1,6)\n",
    "        results.append(dice)\n",
    "    for b in results:\n",
    "        if b == 6:\n",
    "            outcomesix += 1\n",
    "    #simulationlist.append(f\"six was rolled {outcomesix} times in {key}\")\n",
    "    probabilityofsix.append(f\"probability of rolling six in {key}, was {(outcomesix/key) * 100}%\")\n",
    "plt.plot(key, ((outcomesix/key) * 100))\n",
    "    \n",
    "#print(probabilityofsix)"
   ]
  }
 ],
 "metadata": {
  "kernelspec": {
   "display_name": "Python 3",
   "language": "python",
   "name": "python3"
  },
  "language_info": {
   "codemirror_mode": {
    "name": "ipython",
    "version": 3
   },
   "file_extension": ".py",
   "mimetype": "text/x-python",
   "name": "python",
   "nbconvert_exporter": "python",
   "pygments_lexer": "ipython3",
   "version": "3.12.10"
  }
 },
 "nbformat": 4,
 "nbformat_minor": 5
}
