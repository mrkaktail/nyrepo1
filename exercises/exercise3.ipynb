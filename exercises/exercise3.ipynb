{
 "cells": [
  {
   "cell_type": "markdown",
   "id": "3c4e56f8",
   "metadata": {},
   "source": [
    "dice roll"
   ]
  },
  {
   "cell_type": "code",
   "execution_count": 8,
   "id": "dc61782f",
   "metadata": {},
   "outputs": [
    {
     "name": "stdout",
     "output_type": "stream",
     "text": [
      "[1, 1, 2, 3, 4, 4]\n"
     ]
    }
   ],
   "source": [
    "import random\n",
    "\n",
    "dicerolls = []\n",
    "result = 0\n",
    "side = 0\n",
    "while side < 6:\n",
    "    result = random.randint(1,6)\n",
    "    dicerolls.append(result)\n",
    "    side += 1\n",
    "acendingsort = sorted(dicerolls)\n",
    "print(acendingsort)\n"
   ]
  },
  {
   "cell_type": "code",
   "execution_count": 12,
   "id": "cf10d09f",
   "metadata": {},
   "outputs": [
    {
     "name": "stdout",
     "output_type": "stream",
     "text": [
      "[5, 4, 3, 3, 2, 2]\n"
     ]
    }
   ],
   "source": [
    "import random\n",
    "\n",
    "dicerolls = []\n",
    "result = 0\n",
    "side = 0\n",
    "while side < 6:\n",
    "    result = random.randint(1,6)\n",
    "    dicerolls.append(result)\n",
    "    side += 1\n",
    "acendingsort = sorted(dicerolls, reverse=True)\n",
    "print(acendingsort)\n"
   ]
  },
  {
   "cell_type": "code",
   "execution_count": 15,
   "id": "41c17b38",
   "metadata": {},
   "outputs": [
    {
     "name": "stdout",
     "output_type": "stream",
     "text": [
      "5\n"
     ]
    }
   ],
   "source": [
    "import random\n",
    "\n",
    "dicerolls = []\n",
    "result = 0\n",
    "side = 0\n",
    "while side < 6:\n",
    "    result = random.randint(1,6)\n",
    "    dicerolls.append(result)\n",
    "    side += 1\n",
    "acendingsort = sorted(dicerolls, reverse=True)\n",
    "Maxvalue = max(dicerolls)\n",
    "print(Maxvalue)\n"
   ]
  },
  {
   "cell_type": "code",
   "execution_count": 21,
   "id": "dbd520f7",
   "metadata": {},
   "outputs": [
    {
     "name": "stdout",
     "output_type": "stream",
     "text": [
      "the mean is: 3.6\n"
     ]
    }
   ],
   "source": [
    "import random\n",
    "\n",
    "dicerolls = []\n",
    "result = 0\n",
    "side = 0\n",
    "summary = 0\n",
    "while side < 6:\n",
    "    result = random.randint(1,6)\n",
    "    dicerolls.append(result)\n",
    "    side += 1\n",
    "for i in dicerolls:\n",
    "    summary += i\n",
    "    mean = summary / i\n",
    "print(f\"the mean is: {mean}\")\n"
   ]
  },
  {
   "cell_type": "code",
   "execution_count": 30,
   "id": "9318d565",
   "metadata": {},
   "outputs": [
    {
     "name": "stdout",
     "output_type": "stream",
     "text": [
      "4.0\n"
     ]
    }
   ],
   "source": [
    "import random\n",
    "\n",
    "dicerolls = []\n",
    "result = 0\n",
    "side = 0\n",
    "while side < 6:\n",
    "    result = random.randint(1,6)\n",
    "    dicerolls.append(result)\n",
    "    side += 1\n",
    "median = (dicerolls[2] + dicerolls[3]) / 2\n",
    "print(median)\n"
   ]
  },
  {
   "cell_type": "code",
   "execution_count": null,
   "id": "a840f700",
   "metadata": {},
   "outputs": [
    {
     "name": "stdout",
     "output_type": "stream",
     "text": [
      "[6, 6, 6, 2, 1, 1]\n",
      "[2]\n"
     ]
    }
   ],
   "source": [
    "#extract only unique valuse from list\n",
    "import random\n",
    "items = 0\n",
    "tarning = []\n",
    "uniqkast = []\n",
    "for kast in range(6):\n",
    "    resultat = random.randint(1,6)\n",
    "    tarning.append(resultat)\n",
    "print(tarning)\n",
    "for i in tarning:  #only unique values create a temporary variable for items in list and then just refer to it when counting throught\n",
    "    if tarning.count(i) < 2:\n",
    "        uniqkast.append(i)\n",
    "print(uniqkast)\n",
    "        \n",
    "\n"
   ]
  },
  {
   "cell_type": "code",
   "execution_count": null,
   "id": "df22137e",
   "metadata": {},
   "outputs": [],
   "source": [
    "#restautant menu"
   ]
  },
  {
   "cell_type": "code",
   "execution_count": 43,
   "id": "089c1c55",
   "metadata": {},
   "outputs": [
    {
     "name": "stdout",
     "output_type": "stream",
     "text": [
      "day: monday, food: lasanga\n",
      "day: tuesday, food: spaghetti\n",
      "day: wednesday, food: fish\n",
      "day: thursday, food: soup\n",
      "day: friday, food: pankakes\n"
     ]
    }
   ],
   "source": [
    "food = [\"lasanga\", 'spaghetti', \"fish\", \"soup\", \"pankakes\"]\n",
    "day = [\"monday\", \"tuesday\", \"wednesday\", \"thursday\", \"friday\"]\n",
    "for i in range(len(day)):\n",
    "        print(f\"day: {day[i]}, food: {food[i]}\")\n"
   ]
  },
  {
   "cell_type": "code",
   "execution_count": 57,
   "id": "5c66ed35",
   "metadata": {},
   "outputs": [
    {
     "data": {
      "text/plain": [
       "[100, 81, 64, 49, 36, 25, 16, 9, 4, 1, 0, 1, 4, 9, 16, 25, 36, 49, 64, 81, 100]"
      ]
     },
     "execution_count": 57,
     "metadata": {},
     "output_type": "execute_result"
    }
   ],
   "source": [
    "#list of squares\n",
    "squares = [sq**2 for sq in range(-10,11)]\n",
    "squares\n"
   ]
  },
  {
   "cell_type": "code",
   "execution_count": 60,
   "id": "40c47e7f",
   "metadata": {},
   "outputs": [
    {
     "data": {
      "text/plain": [
       "Text(0.5, 1.0, 'plot of squares form -10 to 10')"
      ]
     },
     "execution_count": 60,
     "metadata": {},
     "output_type": "execute_result"
    },
    {
     "data": {
      "image/png": "[encoded data removed]",
      "text/plain": [
       "<Figure size 640x480 with 1 Axes>"
      ]
     },
     "metadata": {},
     "output_type": "display_data"
    }
   ],
   "source": [
    "import matplotlib.pyplot as plt\n",
    "#list of squares\n",
    "squares = [sq**2 for sq in range(-10,11)]\n",
    "xaxis = [i for i in range(-10,11)]\n",
    "plt.plot(xaxis, squares)\n",
    "#titling \n",
    "plt.xlabel(\"x\")\n",
    "plt.ylabel(\"y\")\n",
    "plt.title(\"plot of squares form -10 to 10\")\n"
   ]
  },
  {
   "cell_type": "code",
   "execution_count": 68,
   "id": "62518866",
   "metadata": {},
   "outputs": [
    {
     "name": "stdout",
     "output_type": "stream",
     "text": [
      "['A', 'B', 'C', 'D', 'E', 'F', 'G', 'H']\n"
     ]
    },
    {
     "data": {
      "text/plain": [
       "['A1', 'B1', 'C1', 'D1', 'E1', 'F1', 'G1', 'H1']"
      ]
     },
     "execution_count": 68,
     "metadata": {},
     "output_type": "execute_result"
    }
   ],
   "source": [
    "#create list using list comprehension \n",
    "letters = [\"a\",\"b\",\"c\",\"d\",\"e\",\"f\",\"g\",\"h\"]\n",
    "uppercase = [i.upper() for i in letters] #make them uppercase\n",
    "print(uppercase)\n",
    "alphalist = [i+\"1\" for i in uppercase] #meke each letter with a 1\n",
    "alphalist"
   ]
  },
  {
   "cell_type": "code",
   "execution_count": 70,
   "id": "a43bf3e0",
   "metadata": {},
   "outputs": [
    {
     "data": {
      "text/plain": [
       "['A1', 'B1', 'C1', 'D1', 'E1', 'F1', 'G1', 'H1']"
      ]
     },
     "execution_count": 70,
     "metadata": {},
     "output_type": "execute_result"
    }
   ],
   "source": [
    "#to make it a bit lesss unncessary \n",
    "letters = [\"a\",\"b\",\"c\",\"d\",\"e\",\"f\",\"g\",\"h\"]\n",
    "listwithones = [i.upper()+\"1\" for i in letters]\n",
    "listwithones"
   ]
  },
  {
   "cell_type": "code",
   "execution_count": 95,
   "id": "78fe4bde",
   "metadata": {},
   "outputs": [
    {
     "name": "stdout",
     "output_type": "stream",
     "text": [
      "['A0', 'B0', 'C0', 'D0', 'E0', 'F0', 'G0', 'H0']\n",
      "['A1', 'B1', 'C1', 'D1', 'E1', 'F1', 'G1', 'H1']\n",
      "['A2', 'B2', 'C2', 'D2', 'E2', 'F2', 'G2', 'H2']\n",
      "['A3', 'B3', 'C3', 'D3', 'E3', 'F3', 'G3', 'H3']\n",
      "['A4', 'B4', 'C4', 'D4', 'E4', 'F4', 'G4', 'H4']\n",
      "['A5', 'B5', 'C5', 'D5', 'E5', 'F5', 'G5', 'H5']\n",
      "['A6', 'B6', 'C6', 'D6', 'E6', 'F6', 'G6', 'H6']\n",
      "['A7', 'B7', 'C7', 'D7', 'E7', 'F7', 'G7', 'H7']\n",
      "['A8', 'B8', 'C8', 'D8', 'E8', 'F8', 'G8', 'H8']\n"
     ]
    }
   ],
   "source": [
    "#2d list\n",
    "row = [\"a\",\"b\",\"c\",\"d\",\"e\",\"f\",\"g\",\"h\"]\n",
    "numba = 0\n",
    "listoflists = []\n",
    "nlisttemplate = []\n",
    "\n",
    "for numba in range(0,9):\n",
    "    nlisttemplate = [i.upper()+f\"{numba}\" for i in row]\n",
    "    listoflists.append(nlisttemplate)\n",
    "\n",
    "for line in listoflists:\n",
    "    print(line)"
   ]
  },
  {
   "cell_type": "markdown",
   "id": "d0a75887",
   "metadata": {},
   "source": [
    "#shorter code with help of chatgpt"
   ]
  },
  {
   "cell_type": "code",
   "execution_count": null,
   "id": "31be31fb",
   "metadata": {},
   "outputs": [
    {
     "name": "stdout",
     "output_type": "stream",
     "text": [
      "['A1', 'B1', 'C1', 'D1', 'E1', 'F1', 'G1', 'H1']\n",
      "['A2', 'B2', 'C2', 'D2', 'E2', 'F2', 'G2', 'H2']\n",
      "['A3', 'B3', 'C3', 'D3', 'E3', 'F3', 'G3', 'H3']\n",
      "['A4', 'B4', 'C4', 'D4', 'E4', 'F4', 'G4', 'H4']\n",
      "['A5', 'B5', 'C5', 'D5', 'E5', 'F5', 'G5', 'H5']\n",
      "['A6', 'B6', 'C6', 'D6', 'E6', 'F6', 'G6', 'H6']\n",
      "['A7', 'B7', 'C7', 'D7', 'E7', 'F7', 'G7', 'H7']\n",
      "['A8', 'B8', 'C8', 'D8', 'E8', 'F8', 'G8', 'H8']\n"
     ]
    }
   ],
   "source": [
    "row = [\"a\",\"b\",\"c\",\"d\",\"e\",\"f\",\"g\",\"h\"]\n",
    "listoflists2 = []\n",
    "\n",
    "for i in range(1,9):\n",
    "    newrow  =  [b.upper() + str(i) for b in row]\n",
    "    listoflists2.append(newrow)\n",
    "\n",
    "for c in listoflists2:\n",
    "    print(c)\n"
   ]
  },
  {
   "cell_type": "markdown",
   "id": "4742d757",
   "metadata": {},
   "source": [
    "#do same thing with tuples, immunatble postitions in chessboard"
   ]
  },
  {
   "cell_type": "code",
   "execution_count": 165,
   "id": "745c079d",
   "metadata": {},
   "outputs": [
    {
     "name": "stdout",
     "output_type": "stream",
     "text": [
      "('(A,1)', '(B,1)', '(C,1)', '(D,1)', '(E,1)', '(F,1)', '(G,1)', '(H,1)')\n",
      "('(A,2)', '(B,2)', '(C,2)', '(D,2)', '(E,2)', '(F,2)', '(G,2)', '(H,2)')\n",
      "('(A,3)', '(B,3)', '(C,3)', '(D,3)', '(E,3)', '(F,3)', '(G,3)', '(H,3)')\n",
      "('(A,4)', '(B,4)', '(C,4)', '(D,4)', '(E,4)', '(F,4)', '(G,4)', '(H,4)')\n",
      "('(A,5)', '(B,5)', '(C,5)', '(D,5)', '(E,5)', '(F,5)', '(G,5)', '(H,5)')\n",
      "('(A,6)', '(B,6)', '(C,6)', '(D,6)', '(E,6)', '(F,6)', '(G,6)', '(H,6)')\n",
      "('(A,7)', '(B,7)', '(C,7)', '(D,7)', '(E,7)', '(F,7)', '(G,7)', '(H,7)')\n",
      "('(A,8)', '(B,8)', '(C,8)', '(D,8)', '(E,8)', '(F,8)', '(G,8)', '(H,8)')\n"
     ]
    }
   ],
   "source": [
    "row = [\"a\",\"b\",\"c\",\"d\",\"e\",\"f\",\"g\",\"h\"]\n",
    "listoflists2 = []\n",
    "\n",
    "for i in range(1,9):\n",
    "    newrow  =  [f\"({b.upper()}\" + f\",{str(i)})\" for b in row]\n",
    "    listoflists2.append(newrow)\n",
    "for c in listoflists2:\n",
    "    kaka = tuple(c)\n",
    "    print(kaka)\n"
   ]
  },
  {
   "cell_type": "code",
   "execution_count": 158,
   "id": "664b8f31",
   "metadata": {},
   "outputs": [
    {
     "name": "stdout",
     "output_type": "stream",
     "text": [
      "('a', 'b', 'c', 'd', 'e', 'f', 'g', 'h')\n"
     ]
    }
   ],
   "source": [
    "row = (\"a\",\"b\",\"c\",\"d\",\"e\",\"f\",\"g\",\"h\")\n",
    "count = 0\n",
    "\n",
    "for i in row:\n",
    "    count += 1\n",
    "    i = i + f\"{count}\"\n",
    "\n",
    "print(row)\n",
    "\n"
   ]
  }
 ],
 "metadata": {
  "kernelspec": {
   "display_name": "Python 3",
   "language": "python",
   "name": "python3"
  },
  "language_info": {
   "codemirror_mode": {
    "name": "ipython",
    "version": 3
   },
   "file_extension": ".py",
   "mimetype": "text/x-python",
   "name": "python",
   "nbconvert_exporter": "python",
   "pygments_lexer": "ipython3",
   "version": "3.12.10"
  }
 },
 "nbformat": 4,
 "nbformat_minor": 5
}
