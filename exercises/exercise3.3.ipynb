{
 "cells": [
  {
   "cell_type": "code",
   "execution_count": 7,
   "id": "48eee2c3",
   "metadata": {},
   "outputs": [
    {
     "name": "stdout",
     "output_type": "stream",
     "text": [
      "Rolled 10 times probability of six: 10.000000%\n",
      "Rolled 100 times probability of six: 18.000000%\n",
      "Rolled 1000 times probability of six: 15.600000%\n",
      "Rolled 10000 times probability of six: 16.800000%\n",
      "Rolled 100000 times probability of six: 16.564000%\n",
      "Rolled 1000000 times probability of six: 16.620200%\n"
     ]
    },
    {
     "data": {
      "text/plain": [
       "[<matplotlib.lines.Line2D at 0x2b0916cf9e0>]"
      ]
     },
     "execution_count": 7,
     "metadata": {},
     "output_type": "execute_result"
    },
    {
     "data": {
      "image/png": "[encoded data removed]",
      "text/plain": [
       "<Figure size 640x480 with 1 Axes>"
      ]
     },
     "metadata": {},
     "output_type": "display_data"
    }
   ],
   "source": [
    "import random\n",
    "import matplotlib.pyplot as plt\n",
    "rollsims = [10, 100, 1000, 10000, 100000, 1000000]\n",
    "\n",
    "probabilityofsix = []\n",
    "\n",
    "for rolls in rollsims: \n",
    "    sixrolls = 0\n",
    "    for i in range (rolls):\n",
    "        if random.randint(1,6) == 6:\n",
    "            sixrolls += 1 \n",
    "    chance = (sixrolls/rolls) * 100\n",
    "    probabilityofsix.append((rolls ,chance))\n",
    "\n",
    "for rolls,kaka in probabilityofsix:\n",
    "    print(f\"Rolled {rolls} times probability of six: {kaka:4f}%\")\n",
    "\n",
    "plt.plot(kaka, rolls)"
   ]
  }
 ],
 "metadata": {
  "kernelspec": {
   "display_name": "Python 3",
   "language": "python",
   "name": "python3"
  },
  "language_info": {
   "codemirror_mode": {
    "name": "ipython",
    "version": 3
   },
   "file_extension": ".py",
   "mimetype": "text/x-python",
   "name": "python",
   "nbconvert_exporter": "python",
   "pygments_lexer": "ipython3",
   "version": "3.12.10"
  }
 },
 "nbformat": 4,
 "nbformat_minor": 5
}
