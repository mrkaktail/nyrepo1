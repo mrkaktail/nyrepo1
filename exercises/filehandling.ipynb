{
 "cells": [
  {
   "cell_type": "markdown",
   "id": "87e4a461",
   "metadata": {},
   "source": [
    "lecture 9\n",
    "-reading a file\n",
    "we need to \n",
    "    -read the file\n",
    "    -clean contents \n",
    "    -write the cleaned content to neew textfile \n",
    "\n",
    "-we focus first now on text/string contents \n",
    "\n"
   ]
  },
  {
   "cell_type": "markdown",
   "id": "1a4f1efe",
   "metadata": {},
   "source": [
    "READ THE FILE "
   ]
  },
  {
   "cell_type": "code",
   "execution_count": 9,
   "id": "22d17ff9",
   "metadata": {},
   "outputs": [
    {
     "name": "stdout",
     "output_type": "stream",
     "text": [
      "bbsfbdjfbjbds\n",
      "dsdsfdfdfdfd\n",
      "dsf\n",
      "df\n",
      "f\n",
      "f\n"
     ]
    }
   ],
   "source": [
    "#open the file with (with) statement\n",
    "textfile = open(\"C:/Users/shenz/Desktop/test123.txt\", \"r\") #the first argument is a path ---remember that this is a path not a name\n",
    "text = textfile.read() #the variable that saves the content \n",
    "print(text)"
   ]
  },
  {
   "cell_type": "code",
   "execution_count": null,
   "id": "679cf3b7",
   "metadata": {},
   "outputs": [
    {
     "name": "stdout",
     "output_type": "stream",
     "text": [
      "bbsfbdjfbjbds\n",
      "dsdsfdfdfdfd\n",
      "dsf\n",
      "df\n",
      "f\n",
      "f\n"
     ]
    }
   ],
   "source": [
    "with open(\"C:/Users/shenz/Desktop/test123.txt\", \"r\") as textfile:\n",
    "    text = textfile.read()\n",
    "    #with statement will close the file automatically\n",
    "print(text)"
   ]
  }
 ],
 "metadata": {
  "kernelspec": {
   "display_name": "Python 3",
   "language": "python",
   "name": "python3"
  },
  "language_info": {
   "codemirror_mode": {
    "name": "ipython",
    "version": 3
   },
   "file_extension": ".py",
   "mimetype": "text/x-python",
   "name": "python",
   "nbconvert_exporter": "python",
   "pygments_lexer": "ipython3",
   "version": "3.12.10"
  }
 },
 "nbformat": 4,
 "nbformat_minor": 5
}
