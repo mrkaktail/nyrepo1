{
 "cells": [
  {
   "cell_type": "code",
   "execution_count": null,
   "id": "88f4d6ca",
   "metadata": {},
   "outputs": [
    {
     "data": {
      "image/png": "[encoded data removed]",
      "text/plain": [
       "<Figure size 300x150 with 1 Axes>"
      ]
     },
     "metadata": {},
     "output_type": "display_data"
    },
    {
     "name": "stdout",
     "output_type": "stream",
     "text": [
      "0.04136\n"
     ]
    }
   ],
   "source": [
    "#using monte carlo simulation to see what porbability to complete 2 random reports (must complete by end of day) that your boss just gave you, when its 9am(09:00) on a thursday and you have to be at meetup at 6pm(18:00)\n",
    "#what is the chance that you can even finish those 2 reports under these 9 hours?\n",
    "#for problems with many sources for uncertainty  =  montecarlo sim\n",
    "import numpy as np\n",
    "sims = 1000000 #how many monte carlo simultaions \n",
    "\n",
    "a = np.random.uniform(1, 5, sims) #report 1, this report will take anywhwere from 1-5hrs\n",
    "b = np.random.uniform(2, 5, sims) #report 2, ths repot will take anywhere from 2-6hrs \n",
    "\n",
    "duration = a + b #summary of the time to complete the reports together (total time)\n",
    "\n",
    "import matplotlib.pyplot as plt\n",
    "plt.figure(figsize = (3, 1.5))\n",
    "plt.hist(duration, density = True) #the density argument is = True so that we can plot everything in the form of probability densisites\n",
    "plt.axvline(9, color = \"r\")\n",
    "plt.show()\n",
    "print((duration > 9).sum()/sims)\n",
    "\n"
   ]
  }
 ],
 "metadata": {
  "kernelspec": {
   "display_name": "Python 3",
   "language": "python",
   "name": "python3"
  },
  "language_info": {
   "codemirror_mode": {
    "name": "ipython",
    "version": 3
   },
   "file_extension": ".py",
   "mimetype": "text/x-python",
   "name": "python",
   "nbconvert_exporter": "python",
   "pygments_lexer": "ipython3",
   "version": "3.12.10"
  }
 },
 "nbformat": 4,
 "nbformat_minor": 5
}
