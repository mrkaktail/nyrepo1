{
 "cells": [
  {
   "cell_type": "markdown",
   "id": "76877ce4",
   "metadata": {},
   "source": [
    "####luggade size"
   ]
  },
  {
   "cell_type": "code",
   "execution_count": 5,
   "id": "44ec4b9a",
   "metadata": {},
   "outputs": [
    {
     "name": "stdout",
     "output_type": "stream",
     "text": [
      "bag good to go\n"
     ]
    }
   ],
   "source": [
    "weight = int(input(\"how much does your luggade weight\"))\n",
    "def dimensions():\n",
    "    lenght = int(input(\"enter lenght of bag\"))\n",
    "    width = int(input(\"enter width of bag\"))\n",
    "    height = int(input(\"enter height of bag\"))\n",
    "    volume = lenght * width * height\n",
    "    if volume <= 50600:\n",
    "        return True\n",
    "    else: return False \n",
    "\n",
    "dimensionsok = dimensions()\n",
    "        \n",
    "if weight <= 8 and dimensionsok:\n",
    "    print(\"bag good to go\")\n",
    "elif weight > 8 and dimensionsok:\n",
    "    print(\"bag good but remove weight from bag\")\n",
    "else: \n",
    "    print(\"bag not good to go\")\n"
   ]
  },
  {
   "cell_type": "markdown",
   "id": "d178c294",
   "metadata": {},
   "source": [
    "#count numbers "
   ]
  },
  {
   "cell_type": "code",
   "execution_count": 8,
   "id": "bcfa865a",
   "metadata": {},
   "outputs": [
    {
     "name": "stdout",
     "output_type": "stream",
     "text": [
      "-10\n",
      "-8\n",
      "-6\n",
      "-4\n",
      "-2\n",
      "0\n",
      "2\n",
      "4\n",
      "6\n",
      "8\n",
      "10\n"
     ]
    }
   ],
   "source": [
    "for i in range(-10, 11, 2):\n",
    "    print(i)"
   ]
  },
  {
   "cell_type": "markdown",
   "id": "ec69d5c9",
   "metadata": {},
   "source": [
    "#arithmetic sum "
   ]
  },
  {
   "cell_type": "code",
   "execution_count": null,
   "id": "a9dfb6ee",
   "metadata": {},
   "outputs": [
    {
     "name": "stdout",
     "output_type": "stream",
     "text": [
      "2500\n"
     ]
    }
   ],
   "source": [
    "sum = 0\n",
    "i = 1\n",
    "while i <= 99:\n",
    "    sum += i\n",
    "    i += 2\n",
    "print(sum)"
   ]
  },
  {
   "cell_type": "code",
   "execution_count": 26,
   "id": "dee7bd60",
   "metadata": {},
   "outputs": [
    {
     "name": "stdout",
     "output_type": "stream",
     "text": [
      "5050\n"
     ]
    }
   ],
   "source": [
    "sum = 0\n",
    "for i in range(1, 101, 1):\n",
    "    sum += i\n",
    "print(sum)"
   ]
  },
  {
   "cell_type": "markdown",
   "id": "91d24bfc",
   "metadata": {},
   "source": [
    "Multiplication game"
   ]
  },
  {
   "cell_type": "code",
   "execution_count": 35,
   "id": "4dd91797",
   "metadata": {},
   "outputs": [
    {
     "name": "stdout",
     "output_type": "stream",
     "text": [
      "not correct, the answer was 7\n",
      "correct\n"
     ]
    }
   ],
   "source": [
    "import random\n",
    "menypa = True\n",
    "\n",
    "while menypa == True:\n",
    "    x = random.randint(1,11)\n",
    "    y = random.randint(1,11)\n",
    "    answer = int(input(f\"what is {x} times {y}\"))\n",
    "    correctanswer = x * y\n",
    "    if answer == correctanswer:\n",
    "        print(\"correct\")\n",
    "    else: \n",
    "        print(f\"not correct, the answer was {correctanswer}\")\n",
    "    menyav = input(\"end game answer(yes/no)\")\n",
    "    if menyav == \"yes\":\n",
    "        menypa = False\n",
    "    elif menyav == \"no\": \n",
    "        menypa = True\n"
   ]
  },
  {
   "cell_type": "markdown",
   "id": "2a327f0a",
   "metadata": {},
   "source": [
    "multiplication table"
   ]
  },
  {
   "cell_type": "code",
   "execution_count": 44,
   "id": "11eafc89",
   "metadata": {},
   "outputs": [
    {
     "name": "stdout",
     "output_type": "stream",
     "text": [
      "10 * 1 is 10\n",
      "10 * 2 is 20\n",
      "10 * 3 is 30\n",
      "10 * 4 is 40\n",
      "10 * 5 is 50\n",
      "10 * 6 is 60\n",
      "10 * 7 is 70\n",
      "10 * 8 is 80\n",
      "10 * 9 is 90\n",
      "10 * 10 is 100\n"
     ]
    }
   ],
   "source": [
    "userinputtable = int(input(\"what multiplication table?\"))\n",
    "startinput = int(input(\"what start\"))\n",
    "endinput = int(input(\"what end\"))\n",
    "for i in range(startinput,endinput+1):\n",
    "    print(f\"{userinputtable} * {i} is {userinputtable * i}\") "
   ]
  },
  {
   "cell_type": "code",
   "execution_count": 63,
   "id": "f3b732da",
   "metadata": {},
   "outputs": [
    {
     "name": "stdout",
     "output_type": "stream",
     "text": [
      "   0   0   0   0   0   0   0   0   0   0   0\n",
      "   0   1   2   3   4   5   6   7   8   9  10\n",
      "   0   2   4   6   8  10  12  14  16  18  20\n",
      "   0   3   6   9  12  15  18  21  24  27  30\n",
      "   0   4   8  12  16  20  24  28  32  36  40\n",
      "   0   5  10  15  20  25  30  35  40  45  50\n",
      "   0   6  12  18  24  30  36  42  48  54  60\n",
      "   0   7  14  21  28  35  42  49  56  63  70\n",
      "   0   8  16  24  32  40  48  56  64  72  80\n",
      "   0   9  18  27  36  45  54  63  72  81  90\n",
      "   0  10  20  30  40  50  60  70  80  90 100\n"
     ]
    }
   ],
   "source": [
    "xaxis = 0\n",
    "yaxis = 0\n",
    "for yaxis in range(0, 11, 1):\n",
    "    for xaxis in range(0, 11, 1):\n",
    "        print(f\"{yaxis * xaxis:4}\", end=\"\")\n",
    "    print()"
   ]
  },
  {
   "cell_type": "markdown",
   "id": "0aad8083",
   "metadata": {},
   "source": [
    "rice on chessboard"
   ]
  },
  {
   "cell_type": "code",
   "execution_count": 116,
   "id": "8ec18cf9",
   "metadata": {},
   "outputs": [
    {
     "name": "stdout",
     "output_type": "stream",
     "text": [
      "18446744073709551615\n"
     ]
    }
   ],
   "source": [
    "totalgrains = 0\n",
    "for square in range(64):\n",
    "    grainson1square = 2 ** square\n",
    "    totalgrains += grainson1square\n",
    "print(totalgrains)"
   ]
  },
  {
   "cell_type": "markdown",
   "id": "5e6f22ee",
   "metadata": {},
   "source": [
    "convergence"
   ]
  },
  {
   "cell_type": "code",
   "execution_count": 123,
   "id": "89b961ab",
   "metadata": {},
   "outputs": [
    {
     "name": "stdout",
     "output_type": "stream",
     "text": [
      "2.9990234375\n"
     ]
    }
   ],
   "source": [
    "i = 0\n",
    "summary = 0\n",
    "n = int(input(\"how many n\"))\n",
    "while i <= n:\n",
    "    summary += 1/(2**i)  # the += is usually used to summarize every iteration/output of every loop \n",
    "    i += 1 # to control the loop (eg += to summarize every iteration of the loop until it reaches for example: n=10)\n",
    "print(summary + 1)"
   ]
  },
  {
   "cell_type": "code",
   "execution_count": null,
   "id": "8a3f6108",
   "metadata": {},
   "outputs": [],
   "source": [
    "i = 0\n",
    "summary = 0\n",
    "n = int(input(\"how many n\"))\n",
    "while i <= n:                            #for i in range(n):\n",
    "    summary += ((-1)**i)/((2*i) + 1)\n",
    "    i += 1                                 #for loop take this off because this line is only for controlling the while loop\n",
    "    \n",
    "(print(1-summary)) "
   ]
  },
  {
   "cell_type": "markdown",
   "id": "47427874",
   "metadata": {},
   "source": [
    "for loop is good for iterating through a list, when its known how many loops are supposed to go through"
   ]
  },
  {
   "cell_type": "code",
   "execution_count": 125,
   "id": "f133f1b0",
   "metadata": {},
   "outputs": [
    {
     "name": "stdout",
     "output_type": "stream",
     "text": [
      "kaka\n",
      "baka\n",
      "maka\n",
      "makaka\n"
     ]
    }
   ],
   "source": [
    "mrlist = [\"kaka\", \"baka\", \"maka\", \"makaka\"]\n",
    "\n",
    "for i in mrlist:\n",
    "    print(i)"
   ]
  },
  {
   "cell_type": "markdown",
   "id": "2cb121f6",
   "metadata": {},
   "source": [
    "score = 85\n",
    "\n",
    "if score >= 90:\n",
    "    print(\"Grade: A\")\n",
    "elif score >= 80:\n",
    "    print(\"Grade: B\")\n",
    "elif score >= 70:\n",
    "    print(\"Grade: C\")\n",
    "elif score >= 60:\n",
    "    print(\"Grade: D\")\n",
    "else:\n",
    "    print(\"Grade: F\")\n",
    "\n",
    "Output:\n",
    "Grade: B\n",
    "\n",
    "medans flerar if statements blir alla checkade och stackas bara:\n",
    "\n",
    "Using only if statements\n",
    "\n",
    "\n",
    "score = 85\n",
    "\n",
    "if score >= 90:\n",
    "    print(\"Grade: A\")\n",
    "if score >= 80:\n",
    "    print(\"Grade: B\")\n",
    "if score >= 70:\n",
    "    print(\"Grade: C\")\n",
    "if score >= 60:\n",
    "    print(\"Grade: D\")\n",
    "else:\n",
    "    print(\"Grade: F\")\n",
    "\n",
    "\n",
    "Output:\n",
    "\n",
    "Grade: B\n",
    "Grade: C\n",
    "Grade: D\n",
    "\n",
    "\n",
    "and the else block runs if none if none above are true \n",
    "you can only have 1 else and it must be in the end. \n",
    "\n",
    "basically if you want multiple outcomes you just stack if statements and all those get printed out as long as they are all true."
   ]
  },
  {
   "cell_type": "markdown",
   "id": "208d5b6e",
   "metadata": {},
   "source": [
    "about continue statements, continue statements are purely for skipping a iteration of a loop\n",
    "for eg: \n",
    "\n",
    "x = 5\n",
    "while i < x: #or for i in range(5):\n",
    "    if i == 2:\n",
    "        continue #if it was break it would just print: 0, 1\n",
    "    i += 1 \n",
    "    print(i)\n",
    "\n",
    "    and the output is 0, 1, 3, 4   #so it skips loops and goes to the next one.\n",
    "\n",
    "    and break just completely exits the loop and stops\n",
    "\n",
    "   \n",
    "   \n",
    "\n",
    "CHATGPT: Real-Life Analogy\n",
    "\n",
    "Imagine you're reading a list of names:\n",
    "\n",
    "continue is like saying: “Skip this one, move on to the next.”\n",
    "\n",
    "break is like saying: “Stop reading, we're done here.”\n",
    "\n",
    "✅ Example in a while loop:\n",
    "i = 0\n",
    "while i < 5:\n",
    "    i += 1\n",
    "    if i == 3:\n",
    "        continue\n",
    "    print(i)\n",
    "\n",
    "\n",
    "Output:\n",
    "\n",
    "1\n",
    "2\n",
    "4\n",
    "5\n",
    "\n",
    "\n",
    "Why? When i == 3, it skips print(i) and jumps to the next iteration.\n",
    "\n",
    "Can i += 1 be placed anywhere?\n",
    "✅ Yes — as long as it’s reached every time the loop runs.\n",
    "\n",
    "You don’t have to write it first. You just have to make sure it’s not skipped, and that it executes every time.\n",
    "\n",
    "🔁 Let's look at this working example:\n",
    "i = 0\n",
    "while i < 5:\n",
    "    print(\"Current i:\", i)\n",
    "    i += 1   # Here it's after the print\n",
    "\n",
    "\n",
    "✅ This works fine. Output:\n",
    "\n",
    "Current i: 0\n",
    "Current i: 1\n",
    "Current i: 2\n",
    "Current i: 3\n",
    "Current i: 4"
   ]
  },
  {
   "cell_type": "markdown",
   "id": "141f9c8f",
   "metadata": {},
   "source": [
    "truthy falsy values (in conditions not just bolean values)\n",
    "Why does this matter?\n",
    "\n",
    "When you use values directly in conditions, Python doesn’t just check if they are literally True or False. It looks at their truthiness — which depends on the type and value.\n",
    "\n",
    "Examples\n",
    "Common Falsy values:\n",
    "Value\tExplanation\n",
    "False\tThe boolean False itself\n",
    "None\tRepresents \"no value\"\n",
    "0\tInteger zero\n",
    "0.0\tFloat zero\n",
    "\"\"\tEmpty string\n",
    "[]\tEmpty list\n",
    "{}\tEmpty dictionary\n",
    "set()\tEmpty set\n",
    "\n",
    "All these are treated as False in conditions.\n",
    "\n",
    "Common Truthy values:\n",
    "Value\tExplanation\n",
    "True\tThe boolean True itself\n",
    "Any non-zero number\te.g., 1, -5, 0.1\n",
    "Non-empty string\te.g., \"hello\", \" \"\n",
    "Non-empty list\te.g., [1, 2, 3]\n",
    "Non-empty dict\te.g., {\"a\": 1}\n",
    "\n",
    "All these are treated as True in conditions."
   ]
  }
 ],
 "metadata": {
  "kernelspec": {
   "display_name": "Python 3",
   "language": "python",
   "name": "python3"
  },
  "language_info": {
   "codemirror_mode": {
    "name": "ipython",
    "version": 3
   },
   "file_extension": ".py",
   "mimetype": "text/x-python",
   "name": "python",
   "nbconvert_exporter": "python",
   "pygments_lexer": "ipython3",
   "version": "3.12.10"
  }
 },
 "nbformat": 4,
 "nbformat_minor": 5
}
